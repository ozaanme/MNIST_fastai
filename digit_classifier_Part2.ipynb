{
  "nbformat": 4,
  "nbformat_minor": 0,
  "metadata": {
    "colab": {
      "name": "digit_classifier_Part2.ipynb",
      "provenance": [],
      "collapsed_sections": [
        "E4ySFSR4GxzE",
        "YJJ8RohfGqz7"
      ],
      "authorship_tag": "ABX9TyN+8nx/TpdlTzdNInZJxdVX",
      "include_colab_link": true
    },
    "kernelspec": {
      "name": "python3",
      "display_name": "Python 3"
    },
    "language_info": {
      "name": "python"
    },
    "accelerator": "GPU"
  },
  "cells": [
    {
      "cell_type": "markdown",
      "metadata": {
        "id": "view-in-github",
        "colab_type": "text"
      },
      "source": [
        "<a href=\"https://colab.research.google.com/github/ozaanme/MNIST_fastai/blob/main/digit_classifier_Part2.ipynb\" target=\"_parent\"><img src=\"https://colab.research.google.com/assets/colab-badge.svg\" alt=\"Open In Colab\"/></a>"
      ]
    },
    {
      "cell_type": "markdown",
      "source": [
        "# Intro"
      ],
      "metadata": {
        "id": "E4ySFSR4GxzE"
      }
    },
    {
      "cell_type": "markdown",
      "source": [
        "\n",
        "Hi everyone, this is part 2 for MNIST digit classifier. This part differs from the first one in the way of creating our model. In first part, we used ResNet to train our data. In this part, we are going to learn how to use SGD for training data. In addition, I'd like to say that this isn't a content created entirely by me. I wrote this because I think that it helps me to understand concepts in fast.ai book."
      ],
      "metadata": {
        "id": "jf4u0TOo_l4r"
      }
    },
    {
      "cell_type": "code",
      "execution_count": 1,
      "metadata": {
        "id": "-AEh23Dz_j2c",
        "colab": {
          "base_uri": "https://localhost:8080/"
        },
        "outputId": "a3f90655-4165-46d3-f679-1028e2bb94d1"
      },
      "outputs": [
        {
          "output_type": "stream",
          "name": "stdout",
          "text": [
            "\u001b[K     |████████████████████████████████| 197 kB 4.3 MB/s \n",
            "\u001b[K     |████████████████████████████████| 59 kB 6.2 MB/s \n",
            "\u001b[?25hCollecting fastbook\n",
            "  Downloading fastbook-0.0.24-py3-none-any.whl (719 kB)\n",
            "\u001b[K     |████████████████████████████████| 719 kB 4.2 MB/s \n",
            "\u001b[?25hRequirement already satisfied: fastai>=2.6 in /usr/local/lib/python3.7/dist-packages (from fastbook) (2.6.3)\n",
            "Requirement already satisfied: ipywidgets in /usr/local/lib/python3.7/dist-packages (from fastbook) (7.7.0)\n",
            "Collecting sentencepiece\n",
            "  Downloading sentencepiece-0.1.96-cp37-cp37m-manylinux_2_17_x86_64.manylinux2014_x86_64.whl (1.2 MB)\n",
            "\u001b[K     |████████████████████████████████| 1.2 MB 39.4 MB/s \n",
            "\u001b[?25hRequirement already satisfied: packaging in /usr/local/lib/python3.7/dist-packages (from fastbook) (21.3)\n",
            "Requirement already satisfied: pip in /usr/local/lib/python3.7/dist-packages (from fastbook) (21.1.3)\n",
            "Requirement already satisfied: pandas in /usr/local/lib/python3.7/dist-packages (from fastbook) (1.3.5)\n",
            "Requirement already satisfied: requests in /usr/local/lib/python3.7/dist-packages (from fastbook) (2.23.0)\n",
            "Requirement already satisfied: graphviz in /usr/local/lib/python3.7/dist-packages (from fastbook) (0.10.1)\n",
            "Requirement already satisfied: fastprogress>=0.2.4 in /usr/local/lib/python3.7/dist-packages (from fastai>=2.6->fastbook) (1.0.2)\n",
            "Requirement already satisfied: matplotlib in /usr/local/lib/python3.7/dist-packages (from fastai>=2.6->fastbook) (3.2.2)\n",
            "Requirement already satisfied: fastcore<1.5,>=1.3.27 in /usr/local/lib/python3.7/dist-packages (from fastai>=2.6->fastbook) (1.4.3)\n",
            "Requirement already satisfied: pyyaml in /usr/local/lib/python3.7/dist-packages (from fastai>=2.6->fastbook) (3.13)\n",
            "Requirement already satisfied: fastdownload<2,>=0.0.5 in /usr/local/lib/python3.7/dist-packages (from fastai>=2.6->fastbook) (0.0.5)\n",
            "Requirement already satisfied: pillow>6.0.0 in /usr/local/lib/python3.7/dist-packages (from fastai>=2.6->fastbook) (7.1.2)\n",
            "Requirement already satisfied: scikit-learn in /usr/local/lib/python3.7/dist-packages (from fastai>=2.6->fastbook) (1.0.2)\n",
            "Requirement already satisfied: spacy<4 in /usr/local/lib/python3.7/dist-packages (from fastai>=2.6->fastbook) (2.2.4)\n",
            "Requirement already satisfied: torch<1.12,>=1.7.0 in /usr/local/lib/python3.7/dist-packages (from fastai>=2.6->fastbook) (1.11.0+cu113)\n",
            "Requirement already satisfied: scipy in /usr/local/lib/python3.7/dist-packages (from fastai>=2.6->fastbook) (1.4.1)\n",
            "Requirement already satisfied: torchvision>=0.8.2 in /usr/local/lib/python3.7/dist-packages (from fastai>=2.6->fastbook) (0.12.0+cu113)\n",
            "Requirement already satisfied: cymem<2.1.0,>=2.0.2 in /usr/local/lib/python3.7/dist-packages (from spacy<4->fastai>=2.6->fastbook) (2.0.6)\n",
            "Requirement already satisfied: thinc==7.4.0 in /usr/local/lib/python3.7/dist-packages (from spacy<4->fastai>=2.6->fastbook) (7.4.0)\n",
            "Requirement already satisfied: numpy>=1.15.0 in /usr/local/lib/python3.7/dist-packages (from spacy<4->fastai>=2.6->fastbook) (1.21.6)\n",
            "Requirement already satisfied: plac<1.2.0,>=0.9.6 in /usr/local/lib/python3.7/dist-packages (from spacy<4->fastai>=2.6->fastbook) (1.1.3)\n",
            "Requirement already satisfied: wasabi<1.1.0,>=0.4.0 in /usr/local/lib/python3.7/dist-packages (from spacy<4->fastai>=2.6->fastbook) (0.9.1)\n",
            "Requirement already satisfied: preshed<3.1.0,>=3.0.2 in /usr/local/lib/python3.7/dist-packages (from spacy<4->fastai>=2.6->fastbook) (3.0.6)\n",
            "Requirement already satisfied: srsly<1.1.0,>=1.0.2 in /usr/local/lib/python3.7/dist-packages (from spacy<4->fastai>=2.6->fastbook) (1.0.5)\n",
            "Requirement already satisfied: catalogue<1.1.0,>=0.0.7 in /usr/local/lib/python3.7/dist-packages (from spacy<4->fastai>=2.6->fastbook) (1.0.0)\n",
            "Requirement already satisfied: tqdm<5.0.0,>=4.38.0 in /usr/local/lib/python3.7/dist-packages (from spacy<4->fastai>=2.6->fastbook) (4.64.0)\n",
            "Requirement already satisfied: blis<0.5.0,>=0.4.0 in /usr/local/lib/python3.7/dist-packages (from spacy<4->fastai>=2.6->fastbook) (0.4.1)\n",
            "Requirement already satisfied: murmurhash<1.1.0,>=0.28.0 in /usr/local/lib/python3.7/dist-packages (from spacy<4->fastai>=2.6->fastbook) (1.0.7)\n",
            "Requirement already satisfied: setuptools in /usr/local/lib/python3.7/dist-packages (from spacy<4->fastai>=2.6->fastbook) (57.4.0)\n",
            "Requirement already satisfied: importlib-metadata>=0.20 in /usr/local/lib/python3.7/dist-packages (from catalogue<1.1.0,>=0.0.7->spacy<4->fastai>=2.6->fastbook) (4.11.3)\n",
            "Requirement already satisfied: zipp>=0.5 in /usr/local/lib/python3.7/dist-packages (from importlib-metadata>=0.20->catalogue<1.1.0,>=0.0.7->spacy<4->fastai>=2.6->fastbook) (3.8.0)\n",
            "Requirement already satisfied: typing-extensions>=3.6.4 in /usr/local/lib/python3.7/dist-packages (from importlib-metadata>=0.20->catalogue<1.1.0,>=0.0.7->spacy<4->fastai>=2.6->fastbook) (4.2.0)\n",
            "Requirement already satisfied: urllib3!=1.25.0,!=1.25.1,<1.26,>=1.21.1 in /usr/local/lib/python3.7/dist-packages (from requests->fastbook) (1.24.3)\n",
            "Requirement already satisfied: certifi>=2017.4.17 in /usr/local/lib/python3.7/dist-packages (from requests->fastbook) (2021.10.8)\n",
            "Requirement already satisfied: chardet<4,>=3.0.2 in /usr/local/lib/python3.7/dist-packages (from requests->fastbook) (3.0.4)\n",
            "Requirement already satisfied: idna<3,>=2.5 in /usr/local/lib/python3.7/dist-packages (from requests->fastbook) (2.10)\n",
            "Requirement already satisfied: ipython>=4.0.0 in /usr/local/lib/python3.7/dist-packages (from ipywidgets->fastbook) (5.5.0)\n",
            "Requirement already satisfied: widgetsnbextension~=3.6.0 in /usr/local/lib/python3.7/dist-packages (from ipywidgets->fastbook) (3.6.0)\n",
            "Requirement already satisfied: ipykernel>=4.5.1 in /usr/local/lib/python3.7/dist-packages (from ipywidgets->fastbook) (4.10.1)\n",
            "Requirement already satisfied: traitlets>=4.3.1 in /usr/local/lib/python3.7/dist-packages (from ipywidgets->fastbook) (5.1.1)\n",
            "Requirement already satisfied: ipython-genutils~=0.2.0 in /usr/local/lib/python3.7/dist-packages (from ipywidgets->fastbook) (0.2.0)\n",
            "Requirement already satisfied: nbformat>=4.2.0 in /usr/local/lib/python3.7/dist-packages (from ipywidgets->fastbook) (5.3.0)\n",
            "Requirement already satisfied: jupyterlab-widgets>=1.0.0 in /usr/local/lib/python3.7/dist-packages (from ipywidgets->fastbook) (1.1.0)\n",
            "Requirement already satisfied: jupyter-client in /usr/local/lib/python3.7/dist-packages (from ipykernel>=4.5.1->ipywidgets->fastbook) (5.3.5)\n",
            "Requirement already satisfied: tornado>=4.0 in /usr/local/lib/python3.7/dist-packages (from ipykernel>=4.5.1->ipywidgets->fastbook) (5.1.1)\n",
            "Requirement already satisfied: pickleshare in /usr/local/lib/python3.7/dist-packages (from ipython>=4.0.0->ipywidgets->fastbook) (0.7.5)\n",
            "Requirement already satisfied: prompt-toolkit<2.0.0,>=1.0.4 in /usr/local/lib/python3.7/dist-packages (from ipython>=4.0.0->ipywidgets->fastbook) (1.0.18)\n",
            "Requirement already satisfied: pygments in /usr/local/lib/python3.7/dist-packages (from ipython>=4.0.0->ipywidgets->fastbook) (2.6.1)\n",
            "Requirement already satisfied: decorator in /usr/local/lib/python3.7/dist-packages (from ipython>=4.0.0->ipywidgets->fastbook) (4.4.2)\n",
            "Requirement already satisfied: pexpect in /usr/local/lib/python3.7/dist-packages (from ipython>=4.0.0->ipywidgets->fastbook) (4.8.0)\n",
            "Requirement already satisfied: simplegeneric>0.8 in /usr/local/lib/python3.7/dist-packages (from ipython>=4.0.0->ipywidgets->fastbook) (0.8.1)\n",
            "Requirement already satisfied: jsonschema>=2.6 in /usr/local/lib/python3.7/dist-packages (from nbformat>=4.2.0->ipywidgets->fastbook) (4.3.3)\n",
            "Requirement already satisfied: fastjsonschema in /usr/local/lib/python3.7/dist-packages (from nbformat>=4.2.0->ipywidgets->fastbook) (2.15.3)\n",
            "Requirement already satisfied: jupyter-core in /usr/local/lib/python3.7/dist-packages (from nbformat>=4.2.0->ipywidgets->fastbook) (4.10.0)\n",
            "Requirement already satisfied: pyrsistent!=0.17.0,!=0.17.1,!=0.17.2,>=0.14.0 in /usr/local/lib/python3.7/dist-packages (from jsonschema>=2.6->nbformat>=4.2.0->ipywidgets->fastbook) (0.18.1)\n",
            "Requirement already satisfied: attrs>=17.4.0 in /usr/local/lib/python3.7/dist-packages (from jsonschema>=2.6->nbformat>=4.2.0->ipywidgets->fastbook) (21.4.0)\n",
            "Requirement already satisfied: importlib-resources>=1.4.0 in /usr/local/lib/python3.7/dist-packages (from jsonschema>=2.6->nbformat>=4.2.0->ipywidgets->fastbook) (5.7.1)\n",
            "Requirement already satisfied: six>=1.9.0 in /usr/local/lib/python3.7/dist-packages (from prompt-toolkit<2.0.0,>=1.0.4->ipython>=4.0.0->ipywidgets->fastbook) (1.15.0)\n",
            "Requirement already satisfied: wcwidth in /usr/local/lib/python3.7/dist-packages (from prompt-toolkit<2.0.0,>=1.0.4->ipython>=4.0.0->ipywidgets->fastbook) (0.2.5)\n",
            "Requirement already satisfied: notebook>=4.4.1 in /usr/local/lib/python3.7/dist-packages (from widgetsnbextension~=3.6.0->ipywidgets->fastbook) (5.3.1)\n",
            "Requirement already satisfied: nbconvert in /usr/local/lib/python3.7/dist-packages (from notebook>=4.4.1->widgetsnbextension~=3.6.0->ipywidgets->fastbook) (5.6.1)\n",
            "Requirement already satisfied: terminado>=0.8.1 in /usr/local/lib/python3.7/dist-packages (from notebook>=4.4.1->widgetsnbextension~=3.6.0->ipywidgets->fastbook) (0.13.3)\n",
            "Requirement already satisfied: jinja2 in /usr/local/lib/python3.7/dist-packages (from notebook>=4.4.1->widgetsnbextension~=3.6.0->ipywidgets->fastbook) (2.11.3)\n",
            "Requirement already satisfied: Send2Trash in /usr/local/lib/python3.7/dist-packages (from notebook>=4.4.1->widgetsnbextension~=3.6.0->ipywidgets->fastbook) (1.8.0)\n",
            "Requirement already satisfied: python-dateutil>=2.1 in /usr/local/lib/python3.7/dist-packages (from jupyter-client->ipykernel>=4.5.1->ipywidgets->fastbook) (2.8.2)\n",
            "Requirement already satisfied: pyzmq>=13 in /usr/local/lib/python3.7/dist-packages (from jupyter-client->ipykernel>=4.5.1->ipywidgets->fastbook) (22.3.0)\n",
            "Requirement already satisfied: ptyprocess in /usr/local/lib/python3.7/dist-packages (from terminado>=0.8.1->notebook>=4.4.1->widgetsnbextension~=3.6.0->ipywidgets->fastbook) (0.7.0)\n",
            "Requirement already satisfied: MarkupSafe>=0.23 in /usr/local/lib/python3.7/dist-packages (from jinja2->notebook>=4.4.1->widgetsnbextension~=3.6.0->ipywidgets->fastbook) (2.0.1)\n",
            "Requirement already satisfied: kiwisolver>=1.0.1 in /usr/local/lib/python3.7/dist-packages (from matplotlib->fastai>=2.6->fastbook) (1.4.2)\n",
            "Requirement already satisfied: pyparsing!=2.0.4,!=2.1.2,!=2.1.6,>=2.0.1 in /usr/local/lib/python3.7/dist-packages (from matplotlib->fastai>=2.6->fastbook) (3.0.8)\n",
            "Requirement already satisfied: cycler>=0.10 in /usr/local/lib/python3.7/dist-packages (from matplotlib->fastai>=2.6->fastbook) (0.11.0)\n",
            "Requirement already satisfied: bleach in /usr/local/lib/python3.7/dist-packages (from nbconvert->notebook>=4.4.1->widgetsnbextension~=3.6.0->ipywidgets->fastbook) (5.0.0)\n",
            "Requirement already satisfied: entrypoints>=0.2.2 in /usr/local/lib/python3.7/dist-packages (from nbconvert->notebook>=4.4.1->widgetsnbextension~=3.6.0->ipywidgets->fastbook) (0.4)\n",
            "Requirement already satisfied: testpath in /usr/local/lib/python3.7/dist-packages (from nbconvert->notebook>=4.4.1->widgetsnbextension~=3.6.0->ipywidgets->fastbook) (0.6.0)\n",
            "Requirement already satisfied: defusedxml in /usr/local/lib/python3.7/dist-packages (from nbconvert->notebook>=4.4.1->widgetsnbextension~=3.6.0->ipywidgets->fastbook) (0.7.1)\n",
            "Requirement already satisfied: pandocfilters>=1.4.1 in /usr/local/lib/python3.7/dist-packages (from nbconvert->notebook>=4.4.1->widgetsnbextension~=3.6.0->ipywidgets->fastbook) (1.5.0)\n",
            "Requirement already satisfied: mistune<2,>=0.8.1 in /usr/local/lib/python3.7/dist-packages (from nbconvert->notebook>=4.4.1->widgetsnbextension~=3.6.0->ipywidgets->fastbook) (0.8.4)\n",
            "Requirement already satisfied: webencodings in /usr/local/lib/python3.7/dist-packages (from bleach->nbconvert->notebook>=4.4.1->widgetsnbextension~=3.6.0->ipywidgets->fastbook) (0.5.1)\n",
            "Requirement already satisfied: pytz>=2017.3 in /usr/local/lib/python3.7/dist-packages (from pandas->fastbook) (2022.1)\n",
            "Requirement already satisfied: threadpoolctl>=2.0.0 in /usr/local/lib/python3.7/dist-packages (from scikit-learn->fastai>=2.6->fastbook) (3.1.0)\n",
            "Requirement already satisfied: joblib>=0.11 in /usr/local/lib/python3.7/dist-packages (from scikit-learn->fastai>=2.6->fastbook) (1.1.0)\n",
            "Installing collected packages: sentencepiece, fastbook\n",
            "Successfully installed fastbook-0.0.24 sentencepiece-0.1.96\n"
          ]
        }
      ],
      "source": [
        "! [ -e /content ] && pip install -Uqq fastai  # upgrade fastai on colab\n",
        "! pip install fastbook\n",
        "from fastai.vision.all import * \n",
        "from fastbook import * \n",
        "import ipywidgets as widgets\n"
      ]
    },
    {
      "cell_type": "markdown",
      "source": [
        "As you can remember from the first after we install fastai on colab, we need to download data."
      ],
      "metadata": {
        "id": "3DQe05fBAMSr"
      }
    },
    {
      "cell_type": "code",
      "source": [
        "path = untar_data(URLs.MNIST)"
      ],
      "metadata": {
        "id": "Is6a_Ij6ASE0",
        "colab": {
          "base_uri": "https://localhost:8080/",
          "height": 0
        },
        "outputId": "b03b31a0-7322-4355-bacc-c63fc944da50"
      },
      "execution_count": 2,
      "outputs": [
        {
          "output_type": "display_data",
          "data": {
            "text/plain": [
              "<IPython.core.display.HTML object>"
            ],
            "text/html": [
              "\n",
              "<style>\n",
              "    /* Turns off some styling */\n",
              "    progress {\n",
              "        /* gets rid of default border in Firefox and Opera. */\n",
              "        border: none;\n",
              "        /* Needs to be in here for Safari polyfill so background images work as expected. */\n",
              "        background-size: auto;\n",
              "    }\n",
              "    .progress-bar-interrupted, .progress-bar-interrupted::-webkit-progress-bar {\n",
              "        background: #F44336;\n",
              "    }\n",
              "</style>\n"
            ]
          },
          "metadata": {}
        },
        {
          "output_type": "display_data",
          "data": {
            "text/plain": [
              "<IPython.core.display.HTML object>"
            ],
            "text/html": [
              "\n",
              "    <div>\n",
              "      <progress value='15687680' class='' max='15683414' style='width:300px; height:20px; vertical-align: middle;'></progress>\n",
              "      100.03% [15687680/15683414 00:02<00:00]\n",
              "    </div>\n",
              "    "
            ]
          },
          "metadata": {}
        }
      ]
    },
    {
      "cell_type": "markdown",
      "source": [
        ""
      ],
      "metadata": {
        "id": "pSWX66tWDS4Y"
      }
    },
    {
      "cell_type": "markdown",
      "source": [
        "After we download our data lets take a look whats in it."
      ],
      "metadata": {
        "id": "3gnC-9beAEt1"
      }
    },
    {
      "cell_type": "code",
      "source": [
        "(path/'training').ls()"
      ],
      "metadata": {
        "colab": {
          "base_uri": "https://localhost:8080/"
        },
        "id": "IIbyZM0NAgPp",
        "outputId": "225e5e49-5bd9-49d8-f0eb-591e5b475e33"
      },
      "execution_count": 3,
      "outputs": [
        {
          "output_type": "execute_result",
          "data": {
            "text/plain": [
              "(#10) [Path('/root/.fastai/data/mnist_png/training/3'),Path('/root/.fastai/data/mnist_png/training/2'),Path('/root/.fastai/data/mnist_png/training/0'),Path('/root/.fastai/data/mnist_png/training/9'),Path('/root/.fastai/data/mnist_png/training/4'),Path('/root/.fastai/data/mnist_png/training/7'),Path('/root/.fastai/data/mnist_png/training/5'),Path('/root/.fastai/data/mnist_png/training/8'),Path('/root/.fastai/data/mnist_png/training/1'),Path('/root/.fastai/data/mnist_png/training/6')]"
            ]
          },
          "metadata": {},
          "execution_count": 3
        }
      ]
    },
    {
      "cell_type": "markdown",
      "source": [
        "As you can see, there are folders contain images of each number. We can also look into these ones(using sorted to ensure we all get the same order of files)."
      ],
      "metadata": {
        "id": "WcK8NZ7eBaxA"
      }
    },
    {
      "cell_type": "code",
      "source": [
        "zeros = (path/'training'/'0').ls().sorted()\n",
        "ones = (path/'training'/'1').ls().sorted()\n",
        "twos = (path/'training'/'2').ls().sorted()\n",
        "threes = (path/'training'/'3').ls().sorted()\n",
        "fours = (path/'training'/'4').ls().sorted()\n",
        "fives = (path/'training'/'5').ls().sorted()\n",
        "sixes = (path/'training'/'6').ls().sorted()\n",
        "sevens = (path/'training'/'7').ls().sorted()\n",
        "eights = (path/'training'/'8').ls().sorted()\n",
        "nines = (path/'training'/'9').ls().sorted()\n",
        "zeros\n"
      ],
      "metadata": {
        "colab": {
          "base_uri": "https://localhost:8080/"
        },
        "id": "Z6mahGewB2-F",
        "outputId": "2b2ddad9-7dfb-4264-96a2-5e3752671050"
      },
      "execution_count": 4,
      "outputs": [
        {
          "output_type": "execute_result",
          "data": {
            "text/plain": [
              "(#5923) [Path('/root/.fastai/data/mnist_png/training/0/1.png'),Path('/root/.fastai/data/mnist_png/training/0/1000.png'),Path('/root/.fastai/data/mnist_png/training/0/10005.png'),Path('/root/.fastai/data/mnist_png/training/0/10010.png'),Path('/root/.fastai/data/mnist_png/training/0/10022.png'),Path('/root/.fastai/data/mnist_png/training/0/10025.png'),Path('/root/.fastai/data/mnist_png/training/0/10026.png'),Path('/root/.fastai/data/mnist_png/training/0/10045.png'),Path('/root/.fastai/data/mnist_png/training/0/10069.png'),Path('/root/.fastai/data/mnist_png/training/0/10071.png')...]"
            ]
          },
          "metadata": {},
          "execution_count": 4
        }
      ]
    },
    {
      "cell_type": "markdown",
      "source": [
        "As expected, it is full of images. Let’s take a look at one now."
      ],
      "metadata": {
        "id": "2VIpnPkbCV0o"
      }
    },
    {
      "cell_type": "code",
      "source": [
        "im5_path = fives[5]\n",
        "im5 = Image.open(im5_path)\n",
        "im5"
      ],
      "metadata": {
        "colab": {
          "base_uri": "https://localhost:8080/",
          "height": 0
        },
        "id": "5dG_KOZ5Cdor",
        "outputId": "b119673e-8d15-4b41-aa4e-aed9fe9aae6c"
      },
      "execution_count": 5,
      "outputs": [
        {
          "output_type": "execute_result",
          "data": {
            "text/plain": [
              "<PIL.PngImagePlugin.PngImageFile image mode=L size=28x28 at 0x7FE684A5DFD0>"
            ],
            "image/png": "[encoded data removed]"
          },
          "metadata": {},
          "execution_count": 5
        }
      ]
    },
    {
      "cell_type": "markdown",
      "source": [
        "In this part, it is important to understand what images means to computer. In computers, everything is represented as numbers. In order to review the numbers that create this image, we have to convert it to NumPy array or PyTorch tensor.\n",
        "Let's first examine NumPy array:"
      ],
      "metadata": {
        "id": "m75oOxHACp0J"
      }
    },
    {
      "cell_type": "code",
      "source": [
        "array(im5)[5:15,5:15]"
      ],
      "metadata": {
        "colab": {
          "base_uri": "https://localhost:8080/"
        },
        "id": "pH1Qz0FUDLVU",
        "outputId": "7633fa8f-5a94-4dd3-d83f-b3e2d335dc1a"
      },
      "execution_count": 6,
      "outputs": [
        {
          "output_type": "execute_result",
          "data": {
            "text/plain": [
              "array([[  0,   0,   0,   0,   0,   0,   0,   0,   0,   0],\n",
              "       [  0,   0,   0,   0,   0,   0,   0,   0,   0,   0],\n",
              "       [  0,   0,   0,   0,   0,   0,   0,   0,   0,   0],\n",
              "       [  0,   0,   0,   0,   0,   0,  17, 176, 165, 197],\n",
              "       [  0,   0,   0,   0,   0,   0,  47, 252, 252, 252],\n",
              "       [  0,   0,   0,   0,   0,  24, 253, 253, 253, 243],\n",
              "       [  0,   0,   0,   0,   0,  24, 252, 252, 172,  50],\n",
              "       [  0,   0,   0,   0,   0,  24, 252, 252,  77,   0],\n",
              "       [  0,   0,   0,   0,   0,   5, 135, 252, 194,  51],\n",
              "       [  0,   0,   0,   0,   0,   0,  26, 137, 232, 242]], dtype=uint8)"
            ]
          },
          "metadata": {},
          "execution_count": 6
        }
      ]
    },
    {
      "cell_type": "markdown",
      "source": [
        "5:15 means that we only request the part that includes these columns and rows. And we can also make same thing for a tensor."
      ],
      "metadata": {
        "id": "0MR1F7VgD8Lv"
      }
    },
    {
      "cell_type": "code",
      "source": [
        "tensor(im5)[5:15,5:15]"
      ],
      "metadata": {
        "colab": {
          "base_uri": "https://localhost:8080/"
        },
        "id": "dqPsGLHfELeS",
        "outputId": "8fc79bd9-b0c0-4739-8e58-7ca6337db56f"
      },
      "execution_count": 7,
      "outputs": [
        {
          "output_type": "execute_result",
          "data": {
            "text/plain": [
              "tensor([[  0,   0,   0,   0,   0,   0,   0,   0,   0,   0],\n",
              "        [  0,   0,   0,   0,   0,   0,   0,   0,   0,   0],\n",
              "        [  0,   0,   0,   0,   0,   0,   0,   0,   0,   0],\n",
              "        [  0,   0,   0,   0,   0,   0,  17, 176, 165, 197],\n",
              "        [  0,   0,   0,   0,   0,   0,  47, 252, 252, 252],\n",
              "        [  0,   0,   0,   0,   0,  24, 253, 253, 253, 243],\n",
              "        [  0,   0,   0,   0,   0,  24, 252, 252, 172,  50],\n",
              "        [  0,   0,   0,   0,   0,  24, 252, 252,  77,   0],\n",
              "        [  0,   0,   0,   0,   0,   5, 135, 252, 194,  51],\n",
              "        [  0,   0,   0,   0,   0,   0,  26, 137, 232, 242]], dtype=torch.uint8)"
            ]
          },
          "metadata": {},
          "execution_count": 7
        }
      ]
    },
    {
      "cell_type": "markdown",
      "source": [
        "We can pick specific part of this tensor, and then use Pandas DataFrame to color-code the values using a gradient."
      ],
      "metadata": {
        "id": "1nN2C7bTFY0d"
      }
    },
    {
      "cell_type": "code",
      "source": [
        "im5_t = tensor(im5)\n",
        "df = pd.DataFrame(im5_t[10:25,5:20]) ## This indexes shows us the bottom part of image.\n",
        "df.style.set_properties(**{'font-size':'6pt'}).background_gradient('Greys')"
      ],
      "metadata": {
        "colab": {
          "base_uri": "https://localhost:8080/",
          "height": 0
        },
        "id": "u7N5rbXkFjsT",
        "outputId": "eb81b81a-52e3-425e-8ee9-324f59867b26"
      },
      "execution_count": 8,
      "outputs": [
        {
          "output_type": "execute_result",
          "data": {
            "text/plain": [
              "<pandas.io.formats.style.Styler at 0x7fe68375a810>"
            ],
            "text/html": [
              "<style type=\"text/css\">\n",
              "#T_c9b29_row0_col0, #T_c9b29_row0_col1, #T_c9b29_row0_col2, #T_c9b29_row0_col3, #T_c9b29_row0_col4, #T_c9b29_row0_col12, #T_c9b29_row0_col13, #T_c9b29_row0_col14, #T_c9b29_row1_col0, #T_c9b29_row1_col1, #T_c9b29_row1_col2, #T_c9b29_row1_col3, #T_c9b29_row1_col4, #T_c9b29_row1_col10, #T_c9b29_row1_col11, #T_c9b29_row1_col12, #T_c9b29_row1_col13, #T_c9b29_row1_col14, #T_c9b29_row2_col0, #T_c9b29_row2_col1, #T_c9b29_row2_col2, #T_c9b29_row2_col3, #T_c9b29_row2_col4, #T_c9b29_row2_col9, #T_c9b29_row2_col10, #T_c9b29_row2_col11, #T_c9b29_row2_col12, #T_c9b29_row2_col13, #T_c9b29_row2_col14, #T_c9b29_row3_col0, #T_c9b29_row3_col1, #T_c9b29_row3_col2, #T_c9b29_row3_col3, #T_c9b29_row3_col4, #T_c9b29_row3_col10, #T_c9b29_row3_col11, #T_c9b29_row3_col12, #T_c9b29_row3_col13, #T_c9b29_row3_col14, #T_c9b29_row4_col0, #T_c9b29_row4_col1, #T_c9b29_row4_col2, #T_c9b29_row4_col3, #T_c9b29_row4_col4, #T_c9b29_row4_col5, #T_c9b29_row4_col10, #T_c9b29_row4_col11, #T_c9b29_row4_col12, #T_c9b29_row4_col13, #T_c9b29_row4_col14, #T_c9b29_row5_col0, #T_c9b29_row5_col1, #T_c9b29_row5_col2, #T_c9b29_row5_col3, #T_c9b29_row5_col4, #T_c9b29_row5_col5, #T_c9b29_row5_col6, #T_c9b29_row5_col7, #T_c9b29_row5_col12, #T_c9b29_row5_col13, #T_c9b29_row5_col14, #T_c9b29_row6_col0, #T_c9b29_row6_col1, #T_c9b29_row6_col2, #T_c9b29_row6_col3, #T_c9b29_row6_col4, #T_c9b29_row6_col5, #T_c9b29_row6_col6, #T_c9b29_row6_col7, #T_c9b29_row6_col8, #T_c9b29_row6_col13, #T_c9b29_row6_col14, #T_c9b29_row7_col4, #T_c9b29_row7_col5, #T_c9b29_row7_col6, #T_c9b29_row7_col7, #T_c9b29_row7_col8, #T_c9b29_row7_col9, #T_c9b29_row7_col13, #T_c9b29_row7_col14, #T_c9b29_row8_col5, #T_c9b29_row8_col6, #T_c9b29_row8_col7, #T_c9b29_row8_col8, #T_c9b29_row8_col9, #T_c9b29_row8_col13, #T_c9b29_row8_col14, #T_c9b29_row9_col8, #T_c9b29_row9_col9, #T_c9b29_row9_col13, #T_c9b29_row9_col14, #T_c9b29_row10_col0, #T_c9b29_row10_col1, #T_c9b29_row10_col13, #T_c9b29_row10_col14, #T_c9b29_row11_col0, #T_c9b29_row11_col1, #T_c9b29_row11_col2, #T_c9b29_row11_col3, #T_c9b29_row11_col13, #T_c9b29_row11_col14, #T_c9b29_row12_col0, #T_c9b29_row12_col1, #T_c9b29_row12_col2, #T_c9b29_row12_col3, #T_c9b29_row12_col4, #T_c9b29_row12_col5, #T_c9b29_row12_col12, #T_c9b29_row12_col13, #T_c9b29_row12_col14, #T_c9b29_row13_col0, #T_c9b29_row13_col1, #T_c9b29_row13_col2, #T_c9b29_row13_col3, #T_c9b29_row13_col4, #T_c9b29_row13_col5, #T_c9b29_row13_col6, #T_c9b29_row13_col7, #T_c9b29_row13_col8, #T_c9b29_row13_col9, #T_c9b29_row13_col10, #T_c9b29_row13_col11, #T_c9b29_row13_col12, #T_c9b29_row13_col13, #T_c9b29_row13_col14, #T_c9b29_row14_col0, #T_c9b29_row14_col1, #T_c9b29_row14_col2, #T_c9b29_row14_col3, #T_c9b29_row14_col4, #T_c9b29_row14_col5, #T_c9b29_row14_col6, #T_c9b29_row14_col7, #T_c9b29_row14_col8, #T_c9b29_row14_col9, #T_c9b29_row14_col10, #T_c9b29_row14_col11, #T_c9b29_row14_col12, #T_c9b29_row14_col13, #T_c9b29_row14_col14 {\n",
              "  font-size: 6pt;\n",
              "  background-color: #ffffff;\n",
              "  color: #000000;\n",
              "}\n",
              "#T_c9b29_row0_col5, #T_c9b29_row1_col5, #T_c9b29_row2_col5, #T_c9b29_row8_col10 {\n",
              "  font-size: 6pt;\n",
              "  background-color: #f4f4f4;\n",
              "  color: #000000;\n",
              "}\n",
              "#T_c9b29_row0_col6, #T_c9b29_row0_col7, #T_c9b29_row0_col8, #T_c9b29_row7_col0, #T_c9b29_row8_col1, #T_c9b29_row8_col2, #T_c9b29_row8_col12, #T_c9b29_row9_col2, #T_c9b29_row9_col3, #T_c9b29_row9_col4, #T_c9b29_row9_col12, #T_c9b29_row10_col5, #T_c9b29_row10_col6, #T_c9b29_row10_col7, #T_c9b29_row10_col8, #T_c9b29_row10_col9, #T_c9b29_row10_col10, #T_c9b29_row10_col11 {\n",
              "  font-size: 6pt;\n",
              "  background-color: #000000;\n",
              "  color: #f1f1f1;\n",
              "}\n",
              "#T_c9b29_row0_col9 {\n",
              "  font-size: 6pt;\n",
              "  background-color: #0c0c0c;\n",
              "  color: #f1f1f1;\n",
              "}\n",
              "#T_c9b29_row0_col10 {\n",
              "  font-size: 6pt;\n",
              "  background-color: #a4a4a4;\n",
              "  color: #f1f1f1;\n",
              "}\n",
              "#T_c9b29_row0_col11, #T_c9b29_row11_col4 {\n",
              "  font-size: 6pt;\n",
              "  background-color: #e9e9e9;\n",
              "  color: #000000;\n",
              "}\n",
              "#T_c9b29_row1_col6, #T_c9b29_row1_col7, #T_c9b29_row2_col6, #T_c9b29_row2_col7, #T_c9b29_row3_col7, #T_c9b29_row7_col11, #T_c9b29_row8_col11, #T_c9b29_row9_col11, #T_c9b29_row11_col7, #T_c9b29_row11_col8, #T_c9b29_row11_col9 {\n",
              "  font-size: 6pt;\n",
              "  background-color: #010101;\n",
              "  color: #f1f1f1;\n",
              "}\n",
              "#T_c9b29_row1_col8 {\n",
              "  font-size: 6pt;\n",
              "  background-color: #646464;\n",
              "  color: #f1f1f1;\n",
              "}\n",
              "#T_c9b29_row1_col9, #T_c9b29_row5_col11 {\n",
              "  font-size: 6pt;\n",
              "  background-color: #e3e3e3;\n",
              "  color: #000000;\n",
              "}\n",
              "#T_c9b29_row2_col8 {\n",
              "  font-size: 6pt;\n",
              "  background-color: #cdcdcd;\n",
              "  color: #000000;\n",
              "}\n",
              "#T_c9b29_row3_col5 {\n",
              "  font-size: 6pt;\n",
              "  background-color: #fdfdfd;\n",
              "  color: #000000;\n",
              "}\n",
              "#T_c9b29_row3_col6 {\n",
              "  font-size: 6pt;\n",
              "  background-color: #8d8d8d;\n",
              "  color: #f1f1f1;\n",
              "}\n",
              "#T_c9b29_row3_col8 {\n",
              "  font-size: 6pt;\n",
              "  background-color: #4b4b4b;\n",
              "  color: #f1f1f1;\n",
              "}\n",
              "#T_c9b29_row3_col9 {\n",
              "  font-size: 6pt;\n",
              "  background-color: #e2e2e2;\n",
              "  color: #000000;\n",
              "}\n",
              "#T_c9b29_row4_col6, #T_c9b29_row12_col11 {\n",
              "  font-size: 6pt;\n",
              "  background-color: #f3f3f3;\n",
              "  color: #000000;\n",
              "}\n",
              "#T_c9b29_row4_col7 {\n",
              "  font-size: 6pt;\n",
              "  background-color: #8a8a8a;\n",
              "  color: #f1f1f1;\n",
              "}\n",
              "#T_c9b29_row4_col8 {\n",
              "  font-size: 6pt;\n",
              "  background-color: #181818;\n",
              "  color: #f1f1f1;\n",
              "}\n",
              "#T_c9b29_row4_col9, #T_c9b29_row5_col10, #T_c9b29_row10_col4 {\n",
              "  font-size: 6pt;\n",
              "  background-color: #0d0d0d;\n",
              "  color: #f1f1f1;\n",
              "}\n",
              "#T_c9b29_row5_col8, #T_c9b29_row7_col10 {\n",
              "  font-size: 6pt;\n",
              "  background-color: #8c8c8c;\n",
              "  color: #f1f1f1;\n",
              "}\n",
              "#T_c9b29_row5_col9, #T_c9b29_row6_col10, #T_c9b29_row11_col10 {\n",
              "  font-size: 6pt;\n",
              "  background-color: #020202;\n",
              "  color: #f1f1f1;\n",
              "}\n",
              "#T_c9b29_row6_col9 {\n",
              "  font-size: 6pt;\n",
              "  background-color: #c7c7c7;\n",
              "  color: #000000;\n",
              "}\n",
              "#T_c9b29_row6_col11 {\n",
              "  font-size: 6pt;\n",
              "  background-color: #636363;\n",
              "  color: #f1f1f1;\n",
              "}\n",
              "#T_c9b29_row6_col12 {\n",
              "  font-size: 6pt;\n",
              "  background-color: #f7f7f7;\n",
              "  color: #000000;\n",
              "}\n",
              "#T_c9b29_row7_col1 {\n",
              "  font-size: 6pt;\n",
              "  background-color: #6d6d6d;\n",
              "  color: #f1f1f1;\n",
              "}\n",
              "#T_c9b29_row7_col2 {\n",
              "  font-size: 6pt;\n",
              "  background-color: #d3d3d3;\n",
              "  color: #000000;\n",
              "}\n",
              "#T_c9b29_row7_col3, #T_c9b29_row12_col6 {\n",
              "  font-size: 6pt;\n",
              "  background-color: #f9f9f9;\n",
              "  color: #000000;\n",
              "}\n",
              "#T_c9b29_row7_col12 {\n",
              "  font-size: 6pt;\n",
              "  background-color: #898989;\n",
              "  color: #f1f1f1;\n",
              "}\n",
              "#T_c9b29_row8_col0 {\n",
              "  font-size: 6pt;\n",
              "  background-color: #292929;\n",
              "  color: #f1f1f1;\n",
              "}\n",
              "#T_c9b29_row8_col3 {\n",
              "  font-size: 6pt;\n",
              "  background-color: #2c2c2c;\n",
              "  color: #f1f1f1;\n",
              "}\n",
              "#T_c9b29_row8_col4 {\n",
              "  font-size: 6pt;\n",
              "  background-color: #b3b3b3;\n",
              "  color: #000000;\n",
              "}\n",
              "#T_c9b29_row9_col0, #T_c9b29_row9_col7, #T_c9b29_row10_col2 {\n",
              "  font-size: 6pt;\n",
              "  background-color: #f0f0f0;\n",
              "  color: #000000;\n",
              "}\n",
              "#T_c9b29_row9_col1 {\n",
              "  font-size: 6pt;\n",
              "  background-color: #323232;\n",
              "  color: #f1f1f1;\n",
              "}\n",
              "#T_c9b29_row9_col5 {\n",
              "  font-size: 6pt;\n",
              "  background-color: #282828;\n",
              "  color: #f1f1f1;\n",
              "}\n",
              "#T_c9b29_row9_col6 {\n",
              "  font-size: 6pt;\n",
              "  background-color: #a3a3a3;\n",
              "  color: #f1f1f1;\n",
              "}\n",
              "#T_c9b29_row9_col10 {\n",
              "  font-size: 6pt;\n",
              "  background-color: #959595;\n",
              "  color: #f1f1f1;\n",
              "}\n",
              "#T_c9b29_row10_col3 {\n",
              "  font-size: 6pt;\n",
              "  background-color: #737373;\n",
              "  color: #f1f1f1;\n",
              "}\n",
              "#T_c9b29_row10_col12 {\n",
              "  font-size: 6pt;\n",
              "  background-color: #0f0f0f;\n",
              "  color: #f1f1f1;\n",
              "}\n",
              "#T_c9b29_row11_col5 {\n",
              "  font-size: 6pt;\n",
              "  background-color: #b4b4b4;\n",
              "  color: #000000;\n",
              "}\n",
              "#T_c9b29_row11_col6 {\n",
              "  font-size: 6pt;\n",
              "  background-color: #2f2f2f;\n",
              "  color: #f1f1f1;\n",
              "}\n",
              "#T_c9b29_row11_col11 {\n",
              "  font-size: 6pt;\n",
              "  background-color: #404040;\n",
              "  color: #f1f1f1;\n",
              "}\n",
              "#T_c9b29_row11_col12 {\n",
              "  font-size: 6pt;\n",
              "  background-color: #eeeeee;\n",
              "  color: #000000;\n",
              "}\n",
              "#T_c9b29_row12_col7, #T_c9b29_row12_col8, #T_c9b29_row12_col9, #T_c9b29_row12_col10 {\n",
              "  font-size: 6pt;\n",
              "  background-color: #d4d4d4;\n",
              "  color: #000000;\n",
              "}\n",
              "</style>\n",
              "<table id=\"T_c9b29_\" class=\"dataframe\">\n",
              "  <thead>\n",
              "    <tr>\n",
              "      <th class=\"blank level0\" >&nbsp;</th>\n",
              "      <th class=\"col_heading level0 col0\" >0</th>\n",
              "      <th class=\"col_heading level0 col1\" >1</th>\n",
              "      <th class=\"col_heading level0 col2\" >2</th>\n",
              "      <th class=\"col_heading level0 col3\" >3</th>\n",
              "      <th class=\"col_heading level0 col4\" >4</th>\n",
              "      <th class=\"col_heading level0 col5\" >5</th>\n",
              "      <th class=\"col_heading level0 col6\" >6</th>\n",
              "      <th class=\"col_heading level0 col7\" >7</th>\n",
              "      <th class=\"col_heading level0 col8\" >8</th>\n",
              "      <th class=\"col_heading level0 col9\" >9</th>\n",
              "      <th class=\"col_heading level0 col10\" >10</th>\n",
              "      <th class=\"col_heading level0 col11\" >11</th>\n",
              "      <th class=\"col_heading level0 col12\" >12</th>\n",
              "      <th class=\"col_heading level0 col13\" >13</th>\n",
              "      <th class=\"col_heading level0 col14\" >14</th>\n",
              "    </tr>\n",
              "  </thead>\n",
              "  <tbody>\n",
              "    <tr>\n",
              "      <th id=\"T_c9b29_level0_row0\" class=\"row_heading level0 row0\" >0</th>\n",
              "      <td id=\"T_c9b29_row0_col0\" class=\"data row0 col0\" >0</td>\n",
              "      <td id=\"T_c9b29_row0_col1\" class=\"data row0 col1\" >0</td>\n",
              "      <td id=\"T_c9b29_row0_col2\" class=\"data row0 col2\" >0</td>\n",
              "      <td id=\"T_c9b29_row0_col3\" class=\"data row0 col3\" >0</td>\n",
              "      <td id=\"T_c9b29_row0_col4\" class=\"data row0 col4\" >0</td>\n",
              "      <td id=\"T_c9b29_row0_col5\" class=\"data row0 col5\" >24</td>\n",
              "      <td id=\"T_c9b29_row0_col6\" class=\"data row0 col6\" >253</td>\n",
              "      <td id=\"T_c9b29_row0_col7\" class=\"data row0 col7\" >253</td>\n",
              "      <td id=\"T_c9b29_row0_col8\" class=\"data row0 col8\" >253</td>\n",
              "      <td id=\"T_c9b29_row0_col9\" class=\"data row0 col9\" >243</td>\n",
              "      <td id=\"T_c9b29_row0_col10\" class=\"data row0 col10\" >116</td>\n",
              "      <td id=\"T_c9b29_row0_col11\" class=\"data row0 col11\" >42</td>\n",
              "      <td id=\"T_c9b29_row0_col12\" class=\"data row0 col12\" >0</td>\n",
              "      <td id=\"T_c9b29_row0_col13\" class=\"data row0 col13\" >0</td>\n",
              "      <td id=\"T_c9b29_row0_col14\" class=\"data row0 col14\" >0</td>\n",
              "    </tr>\n",
              "    <tr>\n",
              "      <th id=\"T_c9b29_level0_row1\" class=\"row_heading level0 row1\" >1</th>\n",
              "      <td id=\"T_c9b29_row1_col0\" class=\"data row1 col0\" >0</td>\n",
              "      <td id=\"T_c9b29_row1_col1\" class=\"data row1 col1\" >0</td>\n",
              "      <td id=\"T_c9b29_row1_col2\" class=\"data row1 col2\" >0</td>\n",
              "      <td id=\"T_c9b29_row1_col3\" class=\"data row1 col3\" >0</td>\n",
              "      <td id=\"T_c9b29_row1_col4\" class=\"data row1 col4\" >0</td>\n",
              "      <td id=\"T_c9b29_row1_col5\" class=\"data row1 col5\" >24</td>\n",
              "      <td id=\"T_c9b29_row1_col6\" class=\"data row1 col6\" >252</td>\n",
              "      <td id=\"T_c9b29_row1_col7\" class=\"data row1 col7\" >252</td>\n",
              "      <td id=\"T_c9b29_row1_col8\" class=\"data row1 col8\" >172</td>\n",
              "      <td id=\"T_c9b29_row1_col9\" class=\"data row1 col9\" >50</td>\n",
              "      <td id=\"T_c9b29_row1_col10\" class=\"data row1 col10\" >0</td>\n",
              "      <td id=\"T_c9b29_row1_col11\" class=\"data row1 col11\" >0</td>\n",
              "      <td id=\"T_c9b29_row1_col12\" class=\"data row1 col12\" >0</td>\n",
              "      <td id=\"T_c9b29_row1_col13\" class=\"data row1 col13\" >0</td>\n",
              "      <td id=\"T_c9b29_row1_col14\" class=\"data row1 col14\" >0</td>\n",
              "    </tr>\n",
              "    <tr>\n",
              "      <th id=\"T_c9b29_level0_row2\" class=\"row_heading level0 row2\" >2</th>\n",
              "      <td id=\"T_c9b29_row2_col0\" class=\"data row2 col0\" >0</td>\n",
              "      <td id=\"T_c9b29_row2_col1\" class=\"data row2 col1\" >0</td>\n",
              "      <td id=\"T_c9b29_row2_col2\" class=\"data row2 col2\" >0</td>\n",
              "      <td id=\"T_c9b29_row2_col3\" class=\"data row2 col3\" >0</td>\n",
              "      <td id=\"T_c9b29_row2_col4\" class=\"data row2 col4\" >0</td>\n",
              "      <td id=\"T_c9b29_row2_col5\" class=\"data row2 col5\" >24</td>\n",
              "      <td id=\"T_c9b29_row2_col6\" class=\"data row2 col6\" >252</td>\n",
              "      <td id=\"T_c9b29_row2_col7\" class=\"data row2 col7\" >252</td>\n",
              "      <td id=\"T_c9b29_row2_col8\" class=\"data row2 col8\" >77</td>\n",
              "      <td id=\"T_c9b29_row2_col9\" class=\"data row2 col9\" >0</td>\n",
              "      <td id=\"T_c9b29_row2_col10\" class=\"data row2 col10\" >0</td>\n",
              "      <td id=\"T_c9b29_row2_col11\" class=\"data row2 col11\" >0</td>\n",
              "      <td id=\"T_c9b29_row2_col12\" class=\"data row2 col12\" >0</td>\n",
              "      <td id=\"T_c9b29_row2_col13\" class=\"data row2 col13\" >0</td>\n",
              "      <td id=\"T_c9b29_row2_col14\" class=\"data row2 col14\" >0</td>\n",
              "    </tr>\n",
              "    <tr>\n",
              "      <th id=\"T_c9b29_level0_row3\" class=\"row_heading level0 row3\" >3</th>\n",
              "      <td id=\"T_c9b29_row3_col0\" class=\"data row3 col0\" >0</td>\n",
              "      <td id=\"T_c9b29_row3_col1\" class=\"data row3 col1\" >0</td>\n",
              "      <td id=\"T_c9b29_row3_col2\" class=\"data row3 col2\" >0</td>\n",
              "      <td id=\"T_c9b29_row3_col3\" class=\"data row3 col3\" >0</td>\n",
              "      <td id=\"T_c9b29_row3_col4\" class=\"data row3 col4\" >0</td>\n",
              "      <td id=\"T_c9b29_row3_col5\" class=\"data row3 col5\" >5</td>\n",
              "      <td id=\"T_c9b29_row3_col6\" class=\"data row3 col6\" >135</td>\n",
              "      <td id=\"T_c9b29_row3_col7\" class=\"data row3 col7\" >252</td>\n",
              "      <td id=\"T_c9b29_row3_col8\" class=\"data row3 col8\" >194</td>\n",
              "      <td id=\"T_c9b29_row3_col9\" class=\"data row3 col9\" >51</td>\n",
              "      <td id=\"T_c9b29_row3_col10\" class=\"data row3 col10\" >0</td>\n",
              "      <td id=\"T_c9b29_row3_col11\" class=\"data row3 col11\" >0</td>\n",
              "      <td id=\"T_c9b29_row3_col12\" class=\"data row3 col12\" >0</td>\n",
              "      <td id=\"T_c9b29_row3_col13\" class=\"data row3 col13\" >0</td>\n",
              "      <td id=\"T_c9b29_row3_col14\" class=\"data row3 col14\" >0</td>\n",
              "    </tr>\n",
              "    <tr>\n",
              "      <th id=\"T_c9b29_level0_row4\" class=\"row_heading level0 row4\" >4</th>\n",
              "      <td id=\"T_c9b29_row4_col0\" class=\"data row4 col0\" >0</td>\n",
              "      <td id=\"T_c9b29_row4_col1\" class=\"data row4 col1\" >0</td>\n",
              "      <td id=\"T_c9b29_row4_col2\" class=\"data row4 col2\" >0</td>\n",
              "      <td id=\"T_c9b29_row4_col3\" class=\"data row4 col3\" >0</td>\n",
              "      <td id=\"T_c9b29_row4_col4\" class=\"data row4 col4\" >0</td>\n",
              "      <td id=\"T_c9b29_row4_col5\" class=\"data row4 col5\" >0</td>\n",
              "      <td id=\"T_c9b29_row4_col6\" class=\"data row4 col6\" >26</td>\n",
              "      <td id=\"T_c9b29_row4_col7\" class=\"data row4 col7\" >137</td>\n",
              "      <td id=\"T_c9b29_row4_col8\" class=\"data row4 col8\" >232</td>\n",
              "      <td id=\"T_c9b29_row4_col9\" class=\"data row4 col9\" >242</td>\n",
              "      <td id=\"T_c9b29_row4_col10\" class=\"data row4 col10\" >0</td>\n",
              "      <td id=\"T_c9b29_row4_col11\" class=\"data row4 col11\" >0</td>\n",
              "      <td id=\"T_c9b29_row4_col12\" class=\"data row4 col12\" >0</td>\n",
              "      <td id=\"T_c9b29_row4_col13\" class=\"data row4 col13\" >0</td>\n",
              "      <td id=\"T_c9b29_row4_col14\" class=\"data row4 col14\" >0</td>\n",
              "    </tr>\n",
              "    <tr>\n",
              "      <th id=\"T_c9b29_level0_row5\" class=\"row_heading level0 row5\" >5</th>\n",
              "      <td id=\"T_c9b29_row5_col0\" class=\"data row5 col0\" >0</td>\n",
              "      <td id=\"T_c9b29_row5_col1\" class=\"data row5 col1\" >0</td>\n",
              "      <td id=\"T_c9b29_row5_col2\" class=\"data row5 col2\" >0</td>\n",
              "      <td id=\"T_c9b29_row5_col3\" class=\"data row5 col3\" >0</td>\n",
              "      <td id=\"T_c9b29_row5_col4\" class=\"data row5 col4\" >0</td>\n",
              "      <td id=\"T_c9b29_row5_col5\" class=\"data row5 col5\" >0</td>\n",
              "      <td id=\"T_c9b29_row5_col6\" class=\"data row5 col6\" >0</td>\n",
              "      <td id=\"T_c9b29_row5_col7\" class=\"data row5 col7\" >0</td>\n",
              "      <td id=\"T_c9b29_row5_col8\" class=\"data row5 col8\" >136</td>\n",
              "      <td id=\"T_c9b29_row5_col9\" class=\"data row5 col9\" >251</td>\n",
              "      <td id=\"T_c9b29_row5_col10\" class=\"data row5 col10\" >244</td>\n",
              "      <td id=\"T_c9b29_row5_col11\" class=\"data row5 col11\" >50</td>\n",
              "      <td id=\"T_c9b29_row5_col12\" class=\"data row5 col12\" >0</td>\n",
              "      <td id=\"T_c9b29_row5_col13\" class=\"data row5 col13\" >0</td>\n",
              "      <td id=\"T_c9b29_row5_col14\" class=\"data row5 col14\" >0</td>\n",
              "    </tr>\n",
              "    <tr>\n",
              "      <th id=\"T_c9b29_level0_row6\" class=\"row_heading level0 row6\" >6</th>\n",
              "      <td id=\"T_c9b29_row6_col0\" class=\"data row6 col0\" >0</td>\n",
              "      <td id=\"T_c9b29_row6_col1\" class=\"data row6 col1\" >0</td>\n",
              "      <td id=\"T_c9b29_row6_col2\" class=\"data row6 col2\" >0</td>\n",
              "      <td id=\"T_c9b29_row6_col3\" class=\"data row6 col3\" >0</td>\n",
              "      <td id=\"T_c9b29_row6_col4\" class=\"data row6 col4\" >0</td>\n",
              "      <td id=\"T_c9b29_row6_col5\" class=\"data row6 col5\" >0</td>\n",
              "      <td id=\"T_c9b29_row6_col6\" class=\"data row6 col6\" >0</td>\n",
              "      <td id=\"T_c9b29_row6_col7\" class=\"data row6 col7\" >0</td>\n",
              "      <td id=\"T_c9b29_row6_col8\" class=\"data row6 col8\" >0</td>\n",
              "      <td id=\"T_c9b29_row6_col9\" class=\"data row6 col9\" >84</td>\n",
              "      <td id=\"T_c9b29_row6_col10\" class=\"data row6 col10\" >253</td>\n",
              "      <td id=\"T_c9b29_row6_col11\" class=\"data row6 col11\" >173</td>\n",
              "      <td id=\"T_c9b29_row6_col12\" class=\"data row6 col12\" >13</td>\n",
              "      <td id=\"T_c9b29_row6_col13\" class=\"data row6 col13\" >0</td>\n",
              "      <td id=\"T_c9b29_row6_col14\" class=\"data row6 col14\" >0</td>\n",
              "    </tr>\n",
              "    <tr>\n",
              "      <th id=\"T_c9b29_level0_row7\" class=\"row_heading level0 row7\" >7</th>\n",
              "      <td id=\"T_c9b29_row7_col0\" class=\"data row7 col0\" >185</td>\n",
              "      <td id=\"T_c9b29_row7_col1\" class=\"data row7 col1\" >163</td>\n",
              "      <td id=\"T_c9b29_row7_col2\" class=\"data row7 col2\" >70</td>\n",
              "      <td id=\"T_c9b29_row7_col3\" class=\"data row7 col3\" >13</td>\n",
              "      <td id=\"T_c9b29_row7_col4\" class=\"data row7 col4\" >0</td>\n",
              "      <td id=\"T_c9b29_row7_col5\" class=\"data row7 col5\" >0</td>\n",
              "      <td id=\"T_c9b29_row7_col6\" class=\"data row7 col6\" >0</td>\n",
              "      <td id=\"T_c9b29_row7_col7\" class=\"data row7 col7\" >0</td>\n",
              "      <td id=\"T_c9b29_row7_col8\" class=\"data row7 col8\" >0</td>\n",
              "      <td id=\"T_c9b29_row7_col9\" class=\"data row7 col9\" >0</td>\n",
              "      <td id=\"T_c9b29_row7_col10\" class=\"data row7 col10\" >137</td>\n",
              "      <td id=\"T_c9b29_row7_col11\" class=\"data row7 col11\" >252</td>\n",
              "      <td id=\"T_c9b29_row7_col12\" class=\"data row7 col12\" >100</td>\n",
              "      <td id=\"T_c9b29_row7_col13\" class=\"data row7 col13\" >0</td>\n",
              "      <td id=\"T_c9b29_row7_col14\" class=\"data row7 col14\" >0</td>\n",
              "    </tr>\n",
              "    <tr>\n",
              "      <th id=\"T_c9b29_level0_row8\" class=\"row_heading level0 row8\" >8</th>\n",
              "      <td id=\"T_c9b29_row8_col0\" class=\"data row8 col0\" >159</td>\n",
              "      <td id=\"T_c9b29_row8_col1\" class=\"data row8 col1\" >252</td>\n",
              "      <td id=\"T_c9b29_row8_col2\" class=\"data row8 col2\" >252</td>\n",
              "      <td id=\"T_c9b29_row8_col3\" class=\"data row8 col3\" >215</td>\n",
              "      <td id=\"T_c9b29_row8_col4\" class=\"data row8 col4\" >103</td>\n",
              "      <td id=\"T_c9b29_row8_col5\" class=\"data row8 col5\" >0</td>\n",
              "      <td id=\"T_c9b29_row8_col6\" class=\"data row8 col6\" >0</td>\n",
              "      <td id=\"T_c9b29_row8_col7\" class=\"data row8 col7\" >0</td>\n",
              "      <td id=\"T_c9b29_row8_col8\" class=\"data row8 col8\" >0</td>\n",
              "      <td id=\"T_c9b29_row8_col9\" class=\"data row8 col9\" >0</td>\n",
              "      <td id=\"T_c9b29_row8_col10\" class=\"data row8 col10\" >24</td>\n",
              "      <td id=\"T_c9b29_row8_col11\" class=\"data row8 col11\" >252</td>\n",
              "      <td id=\"T_c9b29_row8_col12\" class=\"data row8 col12\" >183</td>\n",
              "      <td id=\"T_c9b29_row8_col13\" class=\"data row8 col13\" >0</td>\n",
              "      <td id=\"T_c9b29_row8_col14\" class=\"data row8 col14\" >0</td>\n",
              "    </tr>\n",
              "    <tr>\n",
              "      <th id=\"T_c9b29_level0_row9\" class=\"row_heading level0 row9\" >9</th>\n",
              "      <td id=\"T_c9b29_row9_col0\" class=\"data row9 col0\" >23</td>\n",
              "      <td id=\"T_c9b29_row9_col1\" class=\"data row9 col1\" >211</td>\n",
              "      <td id=\"T_c9b29_row9_col2\" class=\"data row9 col2\" >252</td>\n",
              "      <td id=\"T_c9b29_row9_col3\" class=\"data row9 col3\" >252</td>\n",
              "      <td id=\"T_c9b29_row9_col4\" class=\"data row9 col4\" >252</td>\n",
              "      <td id=\"T_c9b29_row9_col5\" class=\"data row9 col5\" >221</td>\n",
              "      <td id=\"T_c9b29_row9_col6\" class=\"data row9 col6\" >116</td>\n",
              "      <td id=\"T_c9b29_row9_col7\" class=\"data row9 col7\" >32</td>\n",
              "      <td id=\"T_c9b29_row9_col8\" class=\"data row9 col8\" >0</td>\n",
              "      <td id=\"T_c9b29_row9_col9\" class=\"data row9 col9\" >0</td>\n",
              "      <td id=\"T_c9b29_row9_col10\" class=\"data row9 col10\" >128</td>\n",
              "      <td id=\"T_c9b29_row9_col11\" class=\"data row9 col11\" >252</td>\n",
              "      <td id=\"T_c9b29_row9_col12\" class=\"data row9 col12\" >183</td>\n",
              "      <td id=\"T_c9b29_row9_col13\" class=\"data row9 col13\" >0</td>\n",
              "      <td id=\"T_c9b29_row9_col14\" class=\"data row9 col14\" >0</td>\n",
              "    </tr>\n",
              "    <tr>\n",
              "      <th id=\"T_c9b29_level0_row10\" class=\"row_heading level0 row10\" >10</th>\n",
              "      <td id=\"T_c9b29_row10_col0\" class=\"data row10 col0\" >0</td>\n",
              "      <td id=\"T_c9b29_row10_col1\" class=\"data row10 col1\" >0</td>\n",
              "      <td id=\"T_c9b29_row10_col2\" class=\"data row10 col2\" >32</td>\n",
              "      <td id=\"T_c9b29_row10_col3\" class=\"data row10 col3\" >157</td>\n",
              "      <td id=\"T_c9b29_row10_col4\" class=\"data row10 col4\" >241</td>\n",
              "      <td id=\"T_c9b29_row10_col5\" class=\"data row10 col5\" >255</td>\n",
              "      <td id=\"T_c9b29_row10_col6\" class=\"data row10 col6\" >253</td>\n",
              "      <td id=\"T_c9b29_row10_col7\" class=\"data row10 col7\" >253</td>\n",
              "      <td id=\"T_c9b29_row10_col8\" class=\"data row10 col8\" >253</td>\n",
              "      <td id=\"T_c9b29_row10_col9\" class=\"data row10 col9\" >253</td>\n",
              "      <td id=\"T_c9b29_row10_col10\" class=\"data row10 col10\" >255</td>\n",
              "      <td id=\"T_c9b29_row10_col11\" class=\"data row10 col11\" >253</td>\n",
              "      <td id=\"T_c9b29_row10_col12\" class=\"data row10 col12\" >173</td>\n",
              "      <td id=\"T_c9b29_row10_col13\" class=\"data row10 col13\" >0</td>\n",
              "      <td id=\"T_c9b29_row10_col14\" class=\"data row10 col14\" >0</td>\n",
              "    </tr>\n",
              "    <tr>\n",
              "      <th id=\"T_c9b29_level0_row11\" class=\"row_heading level0 row11\" >11</th>\n",
              "      <td id=\"T_c9b29_row11_col0\" class=\"data row11 col0\" >0</td>\n",
              "      <td id=\"T_c9b29_row11_col1\" class=\"data row11 col1\" >0</td>\n",
              "      <td id=\"T_c9b29_row11_col2\" class=\"data row11 col2\" >0</td>\n",
              "      <td id=\"T_c9b29_row11_col3\" class=\"data row11 col3\" >0</td>\n",
              "      <td id=\"T_c9b29_row11_col4\" class=\"data row11 col4\" >42</td>\n",
              "      <td id=\"T_c9b29_row11_col5\" class=\"data row11 col5\" >103</td>\n",
              "      <td id=\"T_c9b29_row11_col6\" class=\"data row11 col6\" >214</td>\n",
              "      <td id=\"T_c9b29_row11_col7\" class=\"data row11 col7\" >252</td>\n",
              "      <td id=\"T_c9b29_row11_col8\" class=\"data row11 col8\" >252</td>\n",
              "      <td id=\"T_c9b29_row11_col9\" class=\"data row11 col9\" >252</td>\n",
              "      <td id=\"T_c9b29_row11_col10\" class=\"data row11 col10\" >253</td>\n",
              "      <td id=\"T_c9b29_row11_col11\" class=\"data row11 col11\" >202</td>\n",
              "      <td id=\"T_c9b29_row11_col12\" class=\"data row11 col12\" >25</td>\n",
              "      <td id=\"T_c9b29_row11_col13\" class=\"data row11 col13\" >0</td>\n",
              "      <td id=\"T_c9b29_row11_col14\" class=\"data row11 col14\" >0</td>\n",
              "    </tr>\n",
              "    <tr>\n",
              "      <th id=\"T_c9b29_level0_row12\" class=\"row_heading level0 row12\" >12</th>\n",
              "      <td id=\"T_c9b29_row12_col0\" class=\"data row12 col0\" >0</td>\n",
              "      <td id=\"T_c9b29_row12_col1\" class=\"data row12 col1\" >0</td>\n",
              "      <td id=\"T_c9b29_row12_col2\" class=\"data row12 col2\" >0</td>\n",
              "      <td id=\"T_c9b29_row12_col3\" class=\"data row12 col3\" >0</td>\n",
              "      <td id=\"T_c9b29_row12_col4\" class=\"data row12 col4\" >0</td>\n",
              "      <td id=\"T_c9b29_row12_col5\" class=\"data row12 col5\" >0</td>\n",
              "      <td id=\"T_c9b29_row12_col6\" class=\"data row12 col6\" >13</td>\n",
              "      <td id=\"T_c9b29_row12_col7\" class=\"data row12 col7\" >69</td>\n",
              "      <td id=\"T_c9b29_row12_col8\" class=\"data row12 col8\" >69</td>\n",
              "      <td id=\"T_c9b29_row12_col9\" class=\"data row12 col9\" >69</td>\n",
              "      <td id=\"T_c9b29_row12_col10\" class=\"data row12 col10\" >69</td>\n",
              "      <td id=\"T_c9b29_row12_col11\" class=\"data row12 col11\" >25</td>\n",
              "      <td id=\"T_c9b29_row12_col12\" class=\"data row12 col12\" >0</td>\n",
              "      <td id=\"T_c9b29_row12_col13\" class=\"data row12 col13\" >0</td>\n",
              "      <td id=\"T_c9b29_row12_col14\" class=\"data row12 col14\" >0</td>\n",
              "    </tr>\n",
              "    <tr>\n",
              "      <th id=\"T_c9b29_level0_row13\" class=\"row_heading level0 row13\" >13</th>\n",
              "      <td id=\"T_c9b29_row13_col0\" class=\"data row13 col0\" >0</td>\n",
              "      <td id=\"T_c9b29_row13_col1\" class=\"data row13 col1\" >0</td>\n",
              "      <td id=\"T_c9b29_row13_col2\" class=\"data row13 col2\" >0</td>\n",
              "      <td id=\"T_c9b29_row13_col3\" class=\"data row13 col3\" >0</td>\n",
              "      <td id=\"T_c9b29_row13_col4\" class=\"data row13 col4\" >0</td>\n",
              "      <td id=\"T_c9b29_row13_col5\" class=\"data row13 col5\" >0</td>\n",
              "      <td id=\"T_c9b29_row13_col6\" class=\"data row13 col6\" >0</td>\n",
              "      <td id=\"T_c9b29_row13_col7\" class=\"data row13 col7\" >0</td>\n",
              "      <td id=\"T_c9b29_row13_col8\" class=\"data row13 col8\" >0</td>\n",
              "      <td id=\"T_c9b29_row13_col9\" class=\"data row13 col9\" >0</td>\n",
              "      <td id=\"T_c9b29_row13_col10\" class=\"data row13 col10\" >0</td>\n",
              "      <td id=\"T_c9b29_row13_col11\" class=\"data row13 col11\" >0</td>\n",
              "      <td id=\"T_c9b29_row13_col12\" class=\"data row13 col12\" >0</td>\n",
              "      <td id=\"T_c9b29_row13_col13\" class=\"data row13 col13\" >0</td>\n",
              "      <td id=\"T_c9b29_row13_col14\" class=\"data row13 col14\" >0</td>\n",
              "    </tr>\n",
              "    <tr>\n",
              "      <th id=\"T_c9b29_level0_row14\" class=\"row_heading level0 row14\" >14</th>\n",
              "      <td id=\"T_c9b29_row14_col0\" class=\"data row14 col0\" >0</td>\n",
              "      <td id=\"T_c9b29_row14_col1\" class=\"data row14 col1\" >0</td>\n",
              "      <td id=\"T_c9b29_row14_col2\" class=\"data row14 col2\" >0</td>\n",
              "      <td id=\"T_c9b29_row14_col3\" class=\"data row14 col3\" >0</td>\n",
              "      <td id=\"T_c9b29_row14_col4\" class=\"data row14 col4\" >0</td>\n",
              "      <td id=\"T_c9b29_row14_col5\" class=\"data row14 col5\" >0</td>\n",
              "      <td id=\"T_c9b29_row14_col6\" class=\"data row14 col6\" >0</td>\n",
              "      <td id=\"T_c9b29_row14_col7\" class=\"data row14 col7\" >0</td>\n",
              "      <td id=\"T_c9b29_row14_col8\" class=\"data row14 col8\" >0</td>\n",
              "      <td id=\"T_c9b29_row14_col9\" class=\"data row14 col9\" >0</td>\n",
              "      <td id=\"T_c9b29_row14_col10\" class=\"data row14 col10\" >0</td>\n",
              "      <td id=\"T_c9b29_row14_col11\" class=\"data row14 col11\" >0</td>\n",
              "      <td id=\"T_c9b29_row14_col12\" class=\"data row14 col12\" >0</td>\n",
              "      <td id=\"T_c9b29_row14_col13\" class=\"data row14 col13\" >0</td>\n",
              "      <td id=\"T_c9b29_row14_col14\" class=\"data row14 col14\" >0</td>\n",
              "    </tr>\n",
              "  </tbody>\n",
              "</table>\n"
            ]
          },
          "metadata": {},
          "execution_count": 8
        }
      ]
    },
    {
      "cell_type": "markdown",
      "source": [
        "This data frame really helps us to understand how computer see images. As you can see white pixels are stored as 0 while black is the number 255 and it shades over 0 to 255. Since we understand how computers sees a image, we can move on the our next part. In following parts, we try different ideas to make computer understand which image represent which number."
      ],
      "metadata": {
        "id": "WbsNn27eGPT4"
      }
    },
    {
      "cell_type": "markdown",
      "source": [
        "# Pixel Similarity"
      ],
      "metadata": {
        "id": "YJJ8RohfGqz7"
      }
    },
    {
      "cell_type": "markdown",
      "source": [
        "Idea behind pixe similarity is finding the average pixel value for every pixel of digits.First step is getting the average of pixel values for each group."
      ],
      "metadata": {
        "id": "DuTc8sPlGsL-"
      }
    },
    {
      "cell_type": "code",
      "source": [
        "zero_tensors = [tensor(Image.open(o)) for o in zeros]\n",
        "one_tensors = [tensor(Image.open(o)) for o in ones]\n",
        "two_tensors = [tensor(Image.open(o)) for o in twos]\n",
        "three_tensors = [tensor(Image.open(o)) for o in threes]\n",
        "four_tensors =[tensor(Image.open(o)) for o in fours]\n",
        "five_tensors = [tensor(Image.open(o)) for o in fives]\n",
        "six_tensors = [tensor(Image.open(o)) for o in sixes]\n",
        "seven_tensors = [tensor(Image.open(o)) for o in sevens]\n",
        "eight_tensors = [tensor(Image.open(o)) for o in eights]\n",
        "nine_tensors = [tensor(Image.open(o)) for o in nines]\n",
        "\n",
        "len(nine_tensors),len(zero_tensors)\n"
      ],
      "metadata": {
        "colab": {
          "base_uri": "https://localhost:8080/"
        },
        "id": "cLFPjVOYFFK5",
        "outputId": "3cc56716-e8e2-4dbe-97d1-97fb146c1fa7"
      },
      "execution_count": 9,
      "outputs": [
        {
          "output_type": "execute_result",
          "data": {
            "text/plain": [
              "(5949, 5923)"
            ]
          },
          "metadata": {},
          "execution_count": 9
        }
      ]
    },
    {
      "cell_type": "markdown",
      "source": [
        "We can also check that images look good. Since we have now tensors, we need to use fastai's show_image function to display it."
      ],
      "metadata": {
        "id": "6SYCl9sYGGN-"
      }
    },
    {
      "cell_type": "code",
      "source": [
        "show_image(five_tensors[1]);"
      ],
      "metadata": {
        "colab": {
          "base_uri": "https://localhost:8080/",
          "height": 0
        },
        "id": "6WVeeA6cGU7t",
        "outputId": "1f885ed8-fd7a-4750-f2b6-57a85307633d"
      },
      "execution_count": 10,
      "outputs": [
        {
          "output_type": "display_data",
          "data": {
            "text/plain": [
              "<Figure size 72x72 with 1 Axes>"
            ],
            "image/png": "[encoded data removed]"
          },
          "metadata": {
            "needs_background": "light"
          }
        }
      ]
    },
    {
      "cell_type": "markdown",
      "source": [
        "For each pixel location, we want to calculate the average of that pixel's intensity over all images. To do this, we combine all images in the list into single three-dimensional tensor. These type of tensors called rank-3 tensor. At this part, we will use stack function that comes with PyTorch. In addition, some operations in PyTorch, such as taking a mean, requires to use float types.\n",
        "Generally, when images are floats, the pixel values are expected to be between 0 and 1, so we will also divide by 255 here:\n"
      ],
      "metadata": {
        "id": "59Hfb5ryGd-T"
      }
    },
    {
      "cell_type": "code",
      "source": [
        "stacked_zeros = torch.stack(zero_tensors).float()/255\n",
        "stacked_ones = torch.stack(one_tensors).float()/255 \n",
        "stacked_twos = torch.stack(two_tensors).float()/255\n",
        "stacked_threes = torch.stack(three_tensors).float()/255\n",
        "stacked_fours = torch.stack(four_tensors).float()/255\n",
        "stacked_fives = torch.stack(five_tensors).float()/255\n",
        "stacked_sixes = torch.stack(six_tensors).float()/255\n",
        "stacked_sevens = torch.stack(seven_tensors).float()/255\n",
        "stacked_eights = torch.stack(eight_tensors).float()/255\n",
        "stacked_nines = torch.stack(nine_tensors).float()/255\n",
        "\n",
        "\n",
        "stacked_threes.shape"
      ],
      "metadata": {
        "colab": {
          "base_uri": "https://localhost:8080/"
        },
        "id": "12zG9aYlIEj0",
        "outputId": "3ec38fef-a45e-4560-995c-2d3b1a0c0232"
      },
      "execution_count": 11,
      "outputs": [
        {
          "output_type": "execute_result",
          "data": {
            "text/plain": [
              "torch.Size([6131, 28, 28])"
            ]
          },
          "metadata": {},
          "execution_count": 11
        }
      ]
    },
    {
      "cell_type": "markdown",
      "source": [
        "Shape is one of the most important attributes of tensors. It tells us length of each axis. In this example, we have 6131 images each of size 28x28 pixels. We can also find out tensor rank with these methods:\n"
      ],
      "metadata": {
        "id": "NDkE1Q0iIrdp"
      }
    },
    {
      "cell_type": "code",
      "source": [
        "len(stacked_threes.shape),stacked_threes.ndim"
      ],
      "metadata": {
        "colab": {
          "base_uri": "https://localhost:8080/"
        },
        "id": "2FZ34u4QJay7",
        "outputId": "66996da5-df3b-4fa1-ed3b-e47ef9bb538d"
      },
      "execution_count": 12,
      "outputs": [
        {
          "output_type": "execute_result",
          "data": {
            "text/plain": [
              "(3, 3)"
            ]
          },
          "metadata": {},
          "execution_count": 12
        }
      ]
    },
    {
      "cell_type": "markdown",
      "source": [
        "Our next step is calculating the averages. We calculate the mean of the all image tensors by taking the mean along dimension 0 of our stacked, rank-3 tensor."
      ],
      "metadata": {
        "id": "IjrDKqiwJqv-"
      }
    },
    {
      "cell_type": "code",
      "source": [
        "mean1 = stacked_ones.mean(0)\n",
        "show_image(mean1);\n"
      ],
      "metadata": {
        "colab": {
          "base_uri": "https://localhost:8080/",
          "height": 0
        },
        "id": "RBlqwmZkJqXu",
        "outputId": "acb52f78-6c93-4de5-9902-53f04ea5624c"
      },
      "execution_count": 13,
      "outputs": [
        {
          "output_type": "display_data",
          "data": {
            "text/plain": [
              "<Figure size 72x72 with 1 Axes>"
            ],
            "image/png": "[encoded data removed]"
          },
          "metadata": {
            "needs_background": "light"
          }
        }
      ]
    },
    {
      "cell_type": "markdown",
      "source": [
        "Then we apply same procedure to all of the digits.\n"
      ],
      "metadata": {
        "id": "H0EUBxxXJTB2"
      }
    },
    {
      "cell_type": "code",
      "source": [
        "mean0 = stacked_zeros.mean(0)\n",
        "mean2 = stacked_twos.mean(0)\n",
        "mean3 = stacked_threes.mean(0)\n",
        "mean4 = stacked_fours.mean(0)\n",
        "mean5 = stacked_fives.mean(0)\n",
        "mean6 = stacked_sixes.mean(0)\n",
        "mean7 = stacked_sevens.mean(0)\n",
        "mean8 = stacked_eights.mean(0)\n",
        "mean9 = stacked_nines.mean(0)"
      ],
      "metadata": {
        "id": "3fLy9OaIKfX6"
      },
      "execution_count": 14,
      "outputs": []
    },
    {
      "cell_type": "markdown",
      "source": [
        "Then, we pick arbitrary 4 and measure its distance from our \"ideal digits\"."
      ],
      "metadata": {
        "id": "WF9k1INuKx5x"
      }
    },
    {
      "cell_type": "code",
      "source": [
        "a_4 = stacked_fours[4]\n",
        "show_image(a_4);"
      ],
      "metadata": {
        "colab": {
          "base_uri": "https://localhost:8080/",
          "height": 0
        },
        "id": "QHpw0cR5LE55",
        "outputId": "1f8a21e9-66d4-4e59-9164-ceafce456ea4"
      },
      "execution_count": 15,
      "outputs": [
        {
          "output_type": "display_data",
          "data": {
            "text/plain": [
              "<Figure size 72x72 with 1 Axes>"
            ],
            "image/png": "[encoded data removed]"
          },
          "metadata": {
            "needs_background": "light"
          }
        }
      ]
    },
    {
      "cell_type": "markdown",
      "source": [
        "Data scientists use two main ways to measure distance in this context: mean absolute difference and root mean squared error.\n",
        "\n",
        "\n",
        "*   For mean absolute difference, just take the mean of the absolute value of differences.\n",
        "*   For RMSE, take the mean of the square of differences (which makes everything positive) and then take the square root (which undoes the squaring). \n",
        "\n",
        "\n"
      ],
      "metadata": {
        "id": "X16F_QYaLRmu"
      }
    },
    {
      "cell_type": "markdown",
      "source": [
        "Let's try both of them:"
      ],
      "metadata": {
        "id": "htZOv7yHNHLC"
      }
    },
    {
      "cell_type": "code",
      "source": [
        "dist_4_abs = (a_4 - mean4).abs().mean()\n",
        "dist_4_sqr = ((a_4 - mean4)**2).mean().sqrt()\n",
        "dist_4_abs,dist_4_sqr"
      ],
      "metadata": {
        "colab": {
          "base_uri": "https://localhost:8080/"
        },
        "id": "iolyr98FM3-6",
        "outputId": "71531f43-e30c-44b8-ec11-0cc2c6fd5223"
      },
      "execution_count": 16,
      "outputs": [
        {
          "output_type": "execute_result",
          "data": {
            "text/plain": [
              "(tensor(0.1028), tensor(0.1933))"
            ]
          },
          "metadata": {},
          "execution_count": 16
        }
      ]
    },
    {
      "cell_type": "code",
      "source": [
        "dist_7_abs = (a_4 - mean7).abs().mean()\n",
        "dist_7_sqr = ((a_4 - mean7)**2).mean().sqrt()\n",
        "dist_7_abs,dist_7_sqr"
      ],
      "metadata": {
        "colab": {
          "base_uri": "https://localhost:8080/"
        },
        "id": "FYJS-8DeNM13",
        "outputId": "690765eb-5035-47a8-cfc1-9aee6f9a53ca"
      },
      "execution_count": 17,
      "outputs": [
        {
          "output_type": "execute_result",
          "data": {
            "text/plain": [
              "(tensor(0.1180), tensor(0.2358))"
            ]
          },
          "metadata": {},
          "execution_count": 17
        }
      ]
    },
    {
      "cell_type": "markdown",
      "source": [
        "As you can see, there is less difference with 4 according to 7. So our model will give right prediction in this case.\n",
        "\n",
        "PyTorch already provides both of these as loss functions. You’ll find these inside\n",
        "torch.nn.functional, which the PyTorch team recommends importing as F (and is\n",
        "available by default under that name in fastai):"
      ],
      "metadata": {
        "id": "h4wZdYpcNWce"
      }
    },
    {
      "cell_type": "code",
      "source": [
        "F.l1_loss(a_4.float(),mean7), F.mse_loss(a_4,mean7).sqrt()\n"
      ],
      "metadata": {
        "colab": {
          "base_uri": "https://localhost:8080/"
        },
        "id": "GjU5kg4pNugZ",
        "outputId": "117f17fe-3fda-426f-809a-b91d273f8a65"
      },
      "execution_count": 18,
      "outputs": [
        {
          "output_type": "execute_result",
          "data": {
            "text/plain": [
              "(tensor(0.1180), tensor(0.2358))"
            ]
          },
          "metadata": {},
          "execution_count": 18
        }
      ]
    },
    {
      "cell_type": "markdown",
      "source": [
        "Here, MSE stands for mean squared error, and l1 refers to the standard mathematical jargon for mean absolute value."
      ],
      "metadata": {
        "id": "d376dV3qOyPf"
      }
    },
    {
      "cell_type": "markdown",
      "source": [
        "Let’s create tensors for our digts from validation directory. These are the tensors we will use to calculate a metric measuring the quality of our first-try model, which measures distance from an ideal image:"
      ],
      "metadata": {
        "id": "RyAYeJ7gTTjs"
      }
    },
    {
      "cell_type": "code",
      "source": [
        "valid_0_tens = torch.stack([tensor(Image.open(o))\n",
        " for o in (path/'testing'/'0').ls()])\n",
        "valid_0_tens = valid_0_tens.float()/255\n",
        "\n",
        "valid_1_tens = torch.stack([tensor(Image.open(o))\n",
        " for o in (path/'testing'/'1').ls()])\n",
        "valid_1_tens = valid_1_tens.float()/255\n",
        "\n",
        "valid_2_tens = torch.stack([tensor(Image.open(o))\n",
        " for o in (path/'testing'/'2').ls()])\n",
        "valid_2_tens = valid_2_tens.float()/255\n",
        "\n",
        "valid_3_tens = torch.stack([tensor(Image.open(o))\n",
        " for o in (path/'testing'/'3').ls()])\n",
        "valid_3_tens = valid_3_tens.float()/255\n",
        "\n",
        "valid_4_tens = torch.stack([tensor(Image.open(o))\n",
        " for o in (path/'testing'/'4').ls()])\n",
        "valid_4_tens = valid_4_tens.float()/255\n",
        "\n",
        "valid_5_tens = torch.stack([tensor(Image.open(o))\n",
        " for o in (path/'testing'/'5').ls()])\n",
        "valid_5_tens = valid_5_tens.float()/255\n",
        "\n",
        "valid_6_tens = torch.stack([tensor(Image.open(o))\n",
        " for o in (path/'testing'/'6').ls()])\n",
        "valid_6_tens = valid_6_tens.float()/255\n",
        "\n",
        "valid_7_tens = torch.stack([tensor(Image.open(o))\n",
        " for o in (path/'testing'/'7').ls()])\n",
        "valid_7_tens = valid_7_tens.float()/255\n",
        "\n",
        "valid_8_tens = torch.stack([tensor(Image.open(o))\n",
        " for o in (path/'testing'/'8').ls()])\n",
        "valid_8_tens = valid_8_tens.float()/255\n",
        "\n",
        "valid_9_tens = torch.stack([tensor(Image.open(o))\n",
        " for o in (path/'testing'/'9').ls()])\n",
        "valid_9_tens = valid_9_tens.float()/255\n",
        "\n",
        "\n",
        "valid_3_tens.shape,valid_7_tens.shape ##It’s good to get in the habit of checking shapes as you go. "
      ],
      "metadata": {
        "colab": {
          "base_uri": "https://localhost:8080/"
        },
        "id": "cmwKIQ9dTc3d",
        "outputId": "79d5925d-afa4-445e-ffd0-b9f5793bcf81"
      },
      "execution_count": 19,
      "outputs": [
        {
          "output_type": "execute_result",
          "data": {
            "text/plain": [
              "(torch.Size([1010, 28, 28]), torch.Size([1028, 28, 28]))"
            ]
          },
          "metadata": {},
          "execution_count": 19
        }
      ]
    },
    {
      "cell_type": "markdown",
      "source": [
        "Next,We can write a simple function that calculates the mean absolute error using an expression very similar to the one we wrote in the last section:"
      ],
      "metadata": {
        "id": "_jxFGZQJUjrI"
      }
    },
    {
      "cell_type": "code",
      "source": [
        "def mnist_distance(a,b): return (a-b).abs().mean((-1,-2))\n",
        "mnist_distance(a_4, mean4)\n"
      ],
      "metadata": {
        "colab": {
          "base_uri": "https://localhost:8080/"
        },
        "id": "QgTO7AV2U3cD",
        "outputId": "b11bbbc3-598a-445b-f8a7-9cde2b614671"
      },
      "execution_count": 20,
      "outputs": [
        {
          "output_type": "execute_result",
          "data": {
            "text/plain": [
              "tensor(0.1028)"
            ]
          },
          "metadata": {},
          "execution_count": 20
        }
      ]
    },
    {
      "cell_type": "markdown",
      "source": [
        "In addition, we can also call this function with tensors. Let's try it and see what happens?"
      ],
      "metadata": {
        "id": "42yZnScdVIjK"
      }
    },
    {
      "cell_type": "code",
      "source": [
        "valid_3_dist = mnist_distance(valid_3_tens, mean3)\n",
        "valid_3_dist, valid_3_dist.shape\n"
      ],
      "metadata": {
        "colab": {
          "base_uri": "https://localhost:8080/"
        },
        "id": "qbZpbbJWVP77",
        "outputId": "fde50667-bf80-4669-f7e7-729d4c387b59"
      },
      "execution_count": 21,
      "outputs": [
        {
          "output_type": "execute_result",
          "data": {
            "text/plain": [
              "(tensor([0.1366, 0.1234, 0.1268,  ..., 0.1224, 0.1778, 0.1430]),\n",
              " torch.Size([1010]))"
            ]
          },
          "metadata": {},
          "execution_count": 21
        }
      ]
    },
    {
      "cell_type": "markdown",
      "source": [
        "As you can see, , it returned the distance for every single image as a vector (i.e., a rank-1 tensor) of length 1,010 (the number of 3s in our validation set). Then, we can define another function to understand which digit is the given picture."
      ],
      "metadata": {
        "id": "1z4TnqQFVUsd"
      }
    },
    {
      "cell_type": "code",
      "source": [
        "def is_what(x):\n",
        "  find_array = [mnist_distance(x,mean0),mnist_distance(x,mean1),mnist_distance(x,mean2),mnist_distance(x,mean3),mnist_distance(x,mean4),\n",
        "                mnist_distance(x,mean5),mnist_distance(x,mean6),mnist_distance(x,mean7),mnist_distance(x,mean8),mnist_distance(x,mean9)]\n",
        "  index, elem = min(enumerate(find_array), key=itemgetter(1))\n",
        "  return(index,elem)\n",
        "\n",
        "is_what(a_4)"
      ],
      "metadata": {
        "colab": {
          "base_uri": "https://localhost:8080/"
        },
        "id": "W6cHUShHW462",
        "outputId": "72fb4ba2-da45-41d0-ebb7-c4e77c690970"
      },
      "execution_count": 22,
      "outputs": [
        {
          "output_type": "execute_result",
          "data": {
            "text/plain": [
              "(4, tensor(0.1028))"
            ]
          },
          "metadata": {},
          "execution_count": 22
        }
      ]
    },
    {
      "cell_type": "markdown",
      "source": [
        "With this function, we can see that our model works or not and you can give couple of try to understand it better. Differs from the book example, we compare all digits. Therefore, accuracy will be way lower than we aim with this method. We need something better."
      ],
      "metadata": {
        "id": "PeIuaMwBcDMM"
      }
    },
    {
      "cell_type": "markdown",
      "source": [
        "# Stochastic Gradient Descent"
      ],
      "metadata": {
        "id": "MU7K6XTmcbS4"
      }
    },
    {
      "cell_type": "markdown",
      "source": [
        "In this part, I am not going to explain what is SGD since there is great part in fast.ai book which explains SGD very well. However, I will start with same example in the book to illustrate with basic concepts."
      ],
      "metadata": {
        "id": "zFQeQc8IcjdC"
      }
    },
    {
      "cell_type": "code",
      "source": [
        "def f(x): return x**2\n",
        "\n",
        "## With graph\n",
        "\n",
        "plot_function(f, 'x', 'x**2')"
      ],
      "metadata": {
        "colab": {
          "base_uri": "https://localhost:8080/",
          "height": 279
        },
        "id": "fQdWvsmqd5_B",
        "outputId": "ccd7b04c-50d7-423a-fba8-1cfcf6b73afd"
      },
      "execution_count": 23,
      "outputs": [
        {
          "output_type": "display_data",
          "data": {
            "text/plain": [
              "<Figure size 432x288 with 1 Axes>"
            ],
            "image/png": "[encoded data removed]"
          },
          "metadata": {
            "needs_background": "light"
          }
        }
      ]
    },
    {
      "cell_type": "markdown",
      "source": [
        "PyTorch is able to automatically compute the derivative of nearly any function Most of the time, it will be at least as fast as any derivative function that you can create by hand. \n",
        "\n",
        "Let’s see an\n",
        "example.\n",
        "First, let’s pick a tensor value at which we want gradients:"
      ],
      "metadata": {
        "id": "Xkw9zZttesXk"
      }
    },
    {
      "cell_type": "code",
      "source": [
        "xt = tensor(3.).requires_grad_()"
      ],
      "metadata": {
        "id": "VOgoxdwKe74Q"
      },
      "execution_count": 24,
      "outputs": []
    },
    {
      "cell_type": "markdown",
      "source": [
        "requires_grad is the function that we use to tell PyTorch that we want to calculate gradients with respect to that variable at that value.\n",
        "\n",
        "Now let's calculate our function with that value and check whether we see something interesting."
      ],
      "metadata": {
        "id": "JmGd8ACrfBwt"
      }
    },
    {
      "cell_type": "code",
      "source": [
        "yt = f(xt)\n",
        "yt"
      ],
      "metadata": {
        "colab": {
          "base_uri": "https://localhost:8080/"
        },
        "id": "t07iN8u7fb5f",
        "outputId": "56ed2759-0077-4ade-c0f9-a90373fd9e77"
      },
      "execution_count": 25,
      "outputs": [
        {
          "output_type": "execute_result",
          "data": {
            "text/plain": [
              "tensor(9., grad_fn=<PowBackward0>)"
            ]
          },
          "metadata": {},
          "execution_count": 25
        }
      ]
    },
    {
      "cell_type": "markdown",
      "source": [
        "As you can see, PyTorch prints not just the value calculated, but also note that we mark that with gradient operation.\n",
        "\n",
        "Finally, we tell PyTorch to calculate the gradients for us:"
      ],
      "metadata": {
        "id": "LFcbe91cfc98"
      }
    },
    {
      "cell_type": "code",
      "source": [
        "yt.backward()"
      ],
      "metadata": {
        "id": "9OroPQvsfqQ3"
      },
      "execution_count": 26,
      "outputs": []
    },
    {
      "cell_type": "markdown",
      "source": [
        "We can now view the gradients by checking the grad attribute of our tensor:"
      ],
      "metadata": {
        "id": "68yXdj2cfwn-"
      }
    },
    {
      "cell_type": "code",
      "source": [
        "xt.grad"
      ],
      "metadata": {
        "colab": {
          "base_uri": "https://localhost:8080/"
        },
        "id": "0gjrWPMhf11C",
        "outputId": "9e845690-2f4a-45c9-9d3c-f95a5c1d400a"
      },
      "execution_count": 27,
      "outputs": [
        {
          "output_type": "execute_result",
          "data": {
            "text/plain": [
              "tensor(6.)"
            ]
          },
          "metadata": {},
          "execution_count": 27
        }
      ]
    },
    {
      "cell_type": "markdown",
      "source": [
        "As you all know, derrivative of x**2 is 2*x, and we pick x=3, so the gradients must be 2*3 = 6 which is the same result PyTorch gives us.\n",
        "\n",
        "\n",
        "Now, we'll repeat same steps with a vector arguments:\n"
      ],
      "metadata": {
        "id": "Svqxely8f3ol"
      }
    },
    {
      "cell_type": "code",
      "source": [
        "xt = tensor([3.,4.,10.]).requires_grad_()\n",
        "xt"
      ],
      "metadata": {
        "colab": {
          "base_uri": "https://localhost:8080/"
        },
        "id": "E2IF1PLJgWwR",
        "outputId": "ff62af8e-b401-48c2-abab-d7b7be0ad840"
      },
      "execution_count": 28,
      "outputs": [
        {
          "output_type": "execute_result",
          "data": {
            "text/plain": [
              "tensor([ 3.,  4., 10.], requires_grad=True)"
            ]
          },
          "metadata": {},
          "execution_count": 28
        }
      ]
    },
    {
      "cell_type": "markdown",
      "source": [
        "And we’ll add sum to our function so it can take a vector (i.e., a rank-1 tensor) and\n",
        "return a scalar (i.e., a rank-0 tensor):\n"
      ],
      "metadata": {
        "id": "nPTDACBijFJ1"
      }
    },
    {
      "cell_type": "code",
      "source": [
        "def f(x): return (x**2).sum()\n",
        "yt = f(xt)\n",
        "yt\n"
      ],
      "metadata": {
        "colab": {
          "base_uri": "https://localhost:8080/"
        },
        "id": "9q7DzHgTgbhO",
        "outputId": "ed13c4d9-aa24-45c6-d287-15f11650a87f"
      },
      "execution_count": 29,
      "outputs": [
        {
          "output_type": "execute_result",
          "data": {
            "text/plain": [
              "tensor(125., grad_fn=<SumBackward0>)"
            ]
          },
          "metadata": {},
          "execution_count": 29
        }
      ]
    },
    {
      "cell_type": "markdown",
      "source": [
        "Our gradients are 2*xt, as we’d expect!"
      ],
      "metadata": {
        "id": "1KpnAIaYgYHP"
      }
    },
    {
      "cell_type": "code",
      "source": [
        "yt.backward()\n",
        "xt.grad"
      ],
      "metadata": {
        "colab": {
          "base_uri": "https://localhost:8080/"
        },
        "id": "h_octRe1jKdj",
        "outputId": "89740f0b-81c4-44b5-aba8-da04dc568e2d"
      },
      "execution_count": 30,
      "outputs": [
        {
          "output_type": "execute_result",
          "data": {
            "text/plain": [
              "tensor([ 6.,  8., 20.])"
            ]
          },
          "metadata": {},
          "execution_count": 30
        }
      ]
    },
    {
      "cell_type": "markdown",
      "source": [
        "Now, it is time to understand concept of learning rate. Most of the approaches start with multiplying gradient with some small number, learning rate. The learning rate is often a number between 0.001 and 0.1, although it could be any‐\n",
        "thing. Once you’ve picked a learning rate, you can adjust your parameters using this simple function:"
      ],
      "metadata": {
        "id": "VIR-25TpoQOj"
      }
    },
    {
      "cell_type": "code",
      "source": [
        "w -= w.grad * lr"
      ],
      "metadata": {
        "colab": {
          "base_uri": "https://localhost:8080/",
          "height": 171
        },
        "id": "D3_-8mo3oztQ",
        "outputId": "41c42f93-892a-4082-d904-8b790df20227"
      },
      "execution_count": 31,
      "outputs": [
        {
          "output_type": "error",
          "ename": "NameError",
          "evalue": "ignored",
          "traceback": [
            "\u001b[0;31m---------------------------------------------------------------------------\u001b[0m",
            "\u001b[0;31mNameError\u001b[0m                                 Traceback (most recent call last)",
            "\u001b[0;32m<ipython-input-31-7c4551e25a66>\u001b[0m in \u001b[0;36m<module>\u001b[0;34m()\u001b[0m\n\u001b[0;32m----> 1\u001b[0;31m \u001b[0mw\u001b[0m \u001b[0;34m-=\u001b[0m \u001b[0mw\u001b[0m\u001b[0;34m.\u001b[0m\u001b[0mgrad\u001b[0m \u001b[0;34m*\u001b[0m \u001b[0mlr\u001b[0m\u001b[0;34m\u001b[0m\u001b[0;34m\u001b[0m\u001b[0m\n\u001b[0m",
            "\u001b[0;31mNameError\u001b[0m: name 'w' is not defined"
          ]
        }
      ]
    },
    {
      "cell_type": "markdown",
      "source": [
        "This is known as stepping your parameters, using an optimization step. If you pick learning rate that's too low, it means you have to do a lot of steps.\n",
        "If you pick it too high, that's worse. It may ends up loss getting worse.If the learning rate is too high, it may also “bounce” around, rather than diverging.\n",
        "\n",
        "\n",
        "Now let's move on to end-to-end SGD example. \n",
        "\n",
        "\n",
        "Let's start with a very basic, synthetic model. Assume you're measuring the speed of a roller coaster as it passes over a bump. It would start quickly and then slow as it climbed the hill; it would be the slowest at the top and then speed up as it descended. You'd like to create a model that shows how speed changes over time. If you were to manually measure the speed every second for 20 seconds, it would look like this:"
      ],
      "metadata": {
        "id": "NRpgQOFIoyio"
      }
    },
    {
      "cell_type": "code",
      "source": [
        "time = torch.arange(0,20).float(); time"
      ],
      "metadata": {
        "colab": {
          "base_uri": "https://localhost:8080/"
        },
        "id": "XbT6SL9Np_md",
        "outputId": "72b5060d-746a-41f4-c1bc-a99a6e664a4a"
      },
      "execution_count": 32,
      "outputs": [
        {
          "output_type": "execute_result",
          "data": {
            "text/plain": [
              "tensor([ 0.,  1.,  2.,  3.,  4.,  5.,  6.,  7.,  8.,  9., 10., 11., 12., 13., 14., 15., 16., 17., 18., 19.])"
            ]
          },
          "metadata": {},
          "execution_count": 32
        }
      ]
    },
    {
      "cell_type": "code",
      "source": [
        "speed = torch.randn(20)*3 + 0.75*(time-9.5)**2 + 1\n",
        "plt.scatter(time,speed);"
      ],
      "metadata": {
        "colab": {
          "base_uri": "https://localhost:8080/",
          "height": 265
        },
        "id": "2i09P9lOqD6m",
        "outputId": "f18445c7-ab48-44d4-fe54-87a1b44ccd60"
      },
      "execution_count": 33,
      "outputs": [
        {
          "output_type": "display_data",
          "data": {
            "text/plain": [
              "<Figure size 432x288 with 1 Axes>"
            ],
            "image/png": "[encoded data removed]"
          },
          "metadata": {
            "needs_background": "light"
          }
        }
      ]
    },
    {
      "cell_type": "markdown",
      "source": [
        "We can use SGD to look for a function that matches our observations. We won't be able to consider every potential function, so we'll assume it'll be quadratic, i.e., a function of the form a*(time**2)+(b*time)+c."
      ],
      "metadata": {
        "id": "Cy-8TJn9qGTf"
      }
    },
    {
      "cell_type": "code",
      "source": [
        "def f(t, params):\n",
        " a,b,c = params\n",
        " return a*(t**2) + (b*t) + c"
      ],
      "metadata": {
        "id": "g42f_AVxqTLB"
      },
      "execution_count": 34,
      "outputs": []
    },
    {
      "cell_type": "markdown",
      "source": [
        "In other words, the task of finding the best conceivable function that matches the data has been narrowed down to finding the best quadratic function. Because every quadratic function is fully specified by the three parameters a, b, and c, this substantially simplifies the problem. As a result, we just need to discover the optimum values for a, b, and c to find the best quadratic function. In addition, if we can solve this for three parameters, we can apply same approach for other, more complex functions."
      ],
      "metadata": {
        "id": "52clAANhqZke"
      }
    },
    {
      "cell_type": "code",
      "source": [
        "def mse(preds, targets): return ((preds-targets)**2).mean()"
      ],
      "metadata": {
        "id": "f4hZzYwJqyX_"
      },
      "execution_count": 35,
      "outputs": []
    },
    {
      "cell_type": "markdown",
      "source": [
        "Now, let's work through our seven-step process.\n",
        "\n",
        "**Step 1: Initialize the parameters**\n",
        "\n",
        "First, we initialize the parameters to random values and tell PyTorch that we want to track their gradients using requires_grad_:\n"
      ],
      "metadata": {
        "id": "_MSdMhmTq1pv"
      }
    },
    {
      "cell_type": "code",
      "source": [
        "params = torch.randn(3).requires_grad_()"
      ],
      "metadata": {
        "id": "NGqY1nosuvMo"
      },
      "execution_count": 36,
      "outputs": []
    },
    {
      "cell_type": "markdown",
      "source": [
        "**Step 2: Calculate the predictions**\n"
      ],
      "metadata": {
        "id": "i6vnOsZVuXmk"
      }
    },
    {
      "cell_type": "code",
      "source": [
        "preds = f(time, params)"
      ],
      "metadata": {
        "id": "uaboSJKUuZI2"
      },
      "execution_count": 37,
      "outputs": []
    },
    {
      "cell_type": "markdown",
      "source": [
        "In this part, we can create a function to compare our predictions with our target."
      ],
      "metadata": {
        "id": "WD7Zly7Xub-o"
      }
    },
    {
      "cell_type": "code",
      "source": [
        "def show_preds(preds, ax=None):\n",
        " if ax is None: ax=plt.subplots()[1]\n",
        " ax.scatter(time, speed)\n",
        " ax.scatter(time, to_np(preds), color='red')\n",
        " ax.set_ylim(-300,100)\n",
        "show_preds(preds)"
      ],
      "metadata": {
        "colab": {
          "base_uri": "https://localhost:8080/",
          "height": 269
        },
        "id": "oWPgocnRuz9l",
        "outputId": "79434a17-3b69-4ed8-c91a-bf2d90a78e81"
      },
      "execution_count": 38,
      "outputs": [
        {
          "output_type": "display_data",
          "data": {
            "text/plain": [
              "<Figure size 432x288 with 1 Axes>"
            ],
            "image/png": "[encoded data removed]"
          },
          "metadata": {
            "needs_background": "light"
          }
        }
      ]
    },
    {
      "cell_type": "markdown",
      "source": [
        "**Step 3: Calculate the loss**"
      ],
      "metadata": {
        "id": "4fHQjEQavpLz"
      }
    },
    {
      "cell_type": "code",
      "source": [
        "loss = mse(preds, speed)\n",
        "loss"
      ],
      "metadata": {
        "colab": {
          "base_uri": "https://localhost:8080/"
        },
        "id": "rJQX7RN0vs6q",
        "outputId": "baba4ad6-ab44-471b-c22e-695236d464f1"
      },
      "execution_count": 39,
      "outputs": [
        {
          "output_type": "execute_result",
          "data": {
            "text/plain": [
              "tensor(25823.8086, grad_fn=<MeanBackward0>)"
            ]
          },
          "metadata": {},
          "execution_count": 39
        }
      ]
    },
    {
      "cell_type": "markdown",
      "source": [
        "Our goal is now to improve this. To do that, we’ll need to know the gradients.\n",
        "\n",
        "\n",
        "**Step 4: Calculate the gradients**"
      ],
      "metadata": {
        "id": "jDQZJyYEvsEe"
      }
    },
    {
      "cell_type": "code",
      "source": [
        "loss.backward()\n",
        "params.grad"
      ],
      "metadata": {
        "id": "12NTA0t6wKQp"
      },
      "execution_count": null,
      "outputs": []
    },
    {
      "cell_type": "code",
      "source": [
        "params.grad * 1e-5"
      ],
      "metadata": {
        "colab": {
          "base_uri": "https://localhost:8080/"
        },
        "id": "X0KyuuyrwOiF",
        "outputId": "3399481e-8165-4f5c-d7fb-3780e642ead8"
      },
      "execution_count": 41,
      "outputs": [
        {
          "output_type": "execute_result",
          "data": {
            "text/plain": [
              "tensor([-0.5320, -0.0342, -0.0025])"
            ]
          },
          "metadata": {},
          "execution_count": 41
        }
      ]
    },
    {
      "cell_type": "markdown",
      "source": [
        "We can use these gradients to improve our parameters. We’ll need to pick a learning rate for now, we’ll just use 1e-5."
      ],
      "metadata": {
        "id": "KnNI_S5twJtE"
      }
    },
    {
      "cell_type": "code",
      "source": [
        "params"
      ],
      "metadata": {
        "colab": {
          "base_uri": "https://localhost:8080/"
        },
        "id": "8k-FUW-zyAND",
        "outputId": "a1e8cb76-4c0b-422a-e7d3-f143eea23f60"
      },
      "execution_count": 42,
      "outputs": [
        {
          "output_type": "execute_result",
          "data": {
            "text/plain": [
              "tensor([-0.7658, -0.7506,  1.3525], requires_grad=True)"
            ]
          },
          "metadata": {},
          "execution_count": 42
        }
      ]
    },
    {
      "cell_type": "markdown",
      "source": [
        "**Step 5: Step the weights**\n",
        "\n",
        "Now we need to update the parameters based on the gradients just calculated."
      ],
      "metadata": {
        "id": "USPKEzZ_yI27"
      }
    },
    {
      "cell_type": "code",
      "source": [
        "lr = 1e-5\n",
        "params.data -= lr * params.grad.data\n",
        "params.grad = None"
      ],
      "metadata": {
        "id": "sTiMV848yNyM"
      },
      "execution_count": 43,
      "outputs": []
    },
    {
      "cell_type": "markdown",
      "source": [
        "Let's check that loss improved:"
      ],
      "metadata": {
        "id": "wp5vAMYJyZKS"
      }
    },
    {
      "cell_type": "code",
      "source": [
        "preds = f(time,params)\n",
        "mse(preds, speed)"
      ],
      "metadata": {
        "colab": {
          "base_uri": "https://localhost:8080/"
        },
        "id": "w27MyfzuycKv",
        "outputId": "d39ac253-0fe6-4228-b32a-51ab198d1025"
      },
      "execution_count": 44,
      "outputs": [
        {
          "output_type": "execute_result",
          "data": {
            "text/plain": [
              "tensor(5435.5356, grad_fn=<MeanBackward0>)"
            ]
          },
          "metadata": {},
          "execution_count": 44
        }
      ]
    },
    {
      "cell_type": "markdown",
      "source": [
        "We need to repeat this a few times, so it is useful to create function:\n"
      ],
      "metadata": {
        "id": "_TruEsalyhFG"
      }
    },
    {
      "cell_type": "code",
      "source": [
        "def apply_step(params, prn=True):\n",
        " preds = f(time, params)\n",
        " loss = mse(preds, speed)\n",
        " loss.backward()\n",
        " params.data -= lr * params.grad.data\n",
        " params.grad = None\n",
        " if prn: print(loss.item())\n",
        " return preds\n"
      ],
      "metadata": {
        "id": "n9LZX2k4yn2n"
      },
      "execution_count": 45,
      "outputs": []
    },
    {
      "cell_type": "markdown",
      "source": [
        "**Step 6: Repeat the process**"
      ],
      "metadata": {
        "id": "_VNZRB3ByvW3"
      }
    },
    {
      "cell_type": "code",
      "source": [
        "for i in range(7): apply_step(params)"
      ],
      "metadata": {
        "colab": {
          "base_uri": "https://localhost:8080/"
        },
        "id": "hab30Ss1yxYY",
        "outputId": "162033eb-a9af-4843-ff63-d7bdcb873183"
      },
      "execution_count": 46,
      "outputs": [
        {
          "output_type": "stream",
          "name": "stdout",
          "text": [
            "5435.53564453125\n",
            "1577.44921875\n",
            "847.3778076171875\n",
            "709.2225341796875\n",
            "683.0758056640625\n",
            "678.1243896484375\n",
            "677.1838989257812\n"
          ]
        }
      ]
    },
    {
      "cell_type": "markdown",
      "source": [
        "**Step 7: Stop**\n",
        "\n",
        "We just decided to stop after 10 epochs. In reality, we'd keep an eye on the training and validation losses, as well as our metrics, to determine when to stop."
      ],
      "metadata": {
        "id": "REdduB5AzBpB"
      }
    },
    {
      "cell_type": "markdown",
      "source": [
        "# The MNIST Loss Function"
      ],
      "metadata": {
        "id": "4zpZdBzvzWoG"
      }
    },
    {
      "cell_type": "markdown",
      "source": [
        "We already have our xs—the photographs themselves—as independent variables.\n",
        "We'll combine them all into a single tensor and convert them from a list of matrices(a rank-3 tensor)  to a list of vectors (a rank-2 tensor). This may be accomplished with view, a PyTorch technique that alters the form of a tensor without altering its contents. - 1 is a specific view parameter that says \"make this axis as big as it has to be to fit all of the data\":"
      ],
      "metadata": {
        "id": "Y9VToJLjza_3"
      }
    },
    {
      "cell_type": "code",
      "source": [
        "train_x = torch.cat([stacked_threes, stacked_eights]).view(-1, 28*28)\n",
        "                    "
      ],
      "metadata": {
        "id": "Jb2V0Wawz7Cu"
      },
      "execution_count": 47,
      "outputs": []
    },
    {
      "cell_type": "markdown",
      "source": [
        "We need a label for each image. We’ll use 1 for 3s and 0 for 8s:"
      ],
      "metadata": {
        "id": "xY86xZKvzrOy"
      }
    },
    {
      "cell_type": "code",
      "source": [
        "train_y = tensor([1]*len(threes) + [0]*len(eights)).unsqueeze(1)\n",
        "train_x.shape,train_y.shape"
      ],
      "metadata": {
        "colab": {
          "base_uri": "https://localhost:8080/"
        },
        "id": "-m5pTt5b06fr",
        "outputId": "8838fd44-8de4-468c-f5db-cb57e2db69b3"
      },
      "execution_count": 48,
      "outputs": [
        {
          "output_type": "execute_result",
          "data": {
            "text/plain": [
              "(torch.Size([11982, 784]), torch.Size([11982, 1]))"
            ]
          },
          "metadata": {},
          "execution_count": 48
        }
      ]
    },
    {
      "cell_type": "markdown",
      "source": [
        "When indexed in PyTorch, a Dataset must return a tuple of (x,y). Python has a zip function that, when used with list, gives a straightforward method to achieve this:"
      ],
      "metadata": {
        "id": "6cs4oL9UKTOC"
      }
    },
    {
      "cell_type": "code",
      "source": [
        "dset = list(zip(train_x,train_y))\n",
        "x,y = dset[0]\n",
        "x.shape,y"
      ],
      "metadata": {
        "colab": {
          "base_uri": "https://localhost:8080/"
        },
        "id": "TdRSfJmJKgzI",
        "outputId": "1bb4d933-9825-462c-c417-51c2acd53e00"
      },
      "execution_count": 49,
      "outputs": [
        {
          "output_type": "execute_result",
          "data": {
            "text/plain": [
              "(torch.Size([784]), tensor([1]))"
            ]
          },
          "metadata": {},
          "execution_count": 49
        }
      ]
    },
    {
      "cell_type": "code",
      "source": [
        "valid_x = torch.cat([valid_3_tens, valid_8_tens]).view(-1, 28*28)\n",
        "valid_y = tensor([1]*len(valid_3_tens) + [0]*len(valid_8_tens)).unsqueeze(1)\n",
        "valid_dset = list(zip(valid_x,valid_y))"
      ],
      "metadata": {
        "id": "znPbviOQKoje"
      },
      "execution_count": 51,
      "outputs": []
    },
    {
      "cell_type": "markdown",
      "source": [
        "Now we need a random weight for every pixel."
      ],
      "metadata": {
        "id": "rvnbcQJxKu3l"
      }
    },
    {
      "cell_type": "code",
      "source": [
        "def init_params(size, std=1.0): return (torch.randn(size)*std).requires_grad_()\n",
        "weights = init_params((28*28,1))"
      ],
      "metadata": {
        "id": "ROHyAaTkKuHd"
      },
      "execution_count": 52,
      "outputs": []
    },
    {
      "cell_type": "markdown",
      "source": [
        "The function weights*pixels won’t be flexible enough—it is always equal to 0 when\n",
        "the pixels are equal to 0 (i.e., its intercept is 0). You might remember from high school\n",
        "math that the formula for a line is y=w*x+b; we still need the b. We’ll initialize it to a\n",
        "random number too:\n"
      ],
      "metadata": {
        "id": "QRIuDHxgK9KJ"
      }
    },
    {
      "cell_type": "code",
      "source": [
        "bias = init_params(1)"
      ],
      "metadata": {
        "id": "jnKUsmWHLJ6e"
      },
      "execution_count": 53,
      "outputs": []
    },
    {
      "cell_type": "markdown",
      "source": [
        "We can now calculate a prediction for one image:\n"
      ],
      "metadata": {
        "id": "oJj4_CZvLNgk"
      }
    },
    {
      "cell_type": "code",
      "source": [
        "(train_x[0]*weights.T).sum() + bias"
      ],
      "metadata": {
        "colab": {
          "base_uri": "https://localhost:8080/"
        },
        "id": "BwX4RvlDLN5D",
        "outputId": "53324c61-576e-460c-ecfc-83769b903ad9"
      },
      "execution_count": 54,
      "outputs": [
        {
          "output_type": "execute_result",
          "data": {
            "text/plain": [
              "tensor([20.2336], grad_fn=<AddBackward0>)"
            ]
          },
          "metadata": {},
          "execution_count": 54
        }
      ]
    },
    {
      "cell_type": "markdown",
      "source": [
        "While we could calculate the prediction for each image using a Python for loop, this would be extremely slow.In this case, there’s an extremely convenient mathematical operation that calculates w*x for every row of a matrix—it’s called matrix multiplication. In Python, matrix multiplication is represented with the @ operator. Let’s try it:"
      ],
      "metadata": {
        "id": "3rjtObtlLaQt"
      }
    },
    {
      "cell_type": "code",
      "source": [
        "def linear1(xb): return xb@weights + bias\n",
        "preds = linear1(train_x)\n",
        "preds"
      ],
      "metadata": {
        "colab": {
          "base_uri": "https://localhost:8080/"
        },
        "id": "I1hfPBiVLqoX",
        "outputId": "cc3244b2-046d-4cae-a774-54094ba18df7"
      },
      "execution_count": 55,
      "outputs": [
        {
          "output_type": "execute_result",
          "data": {
            "text/plain": [
              "tensor([[20.2336],\n",
              "        [17.0644],\n",
              "        [15.2384],\n",
              "        ...,\n",
              "        [15.4866],\n",
              "        [19.8041],\n",
              "        [20.5976]], grad_fn=<AddBackward0>)"
            ]
          },
          "metadata": {},
          "execution_count": 55
        }
      ]
    },
    {
      "cell_type": "markdown",
      "source": [
        "Let's check our accuracy. To determine if each output represents a 3 or a 8, we just check whether it is bigger than 0, allowing us to measure our accuracy for each item (using broadcasting, so no loops!) the following:"
      ],
      "metadata": {
        "id": "VztD0ac6L06d"
      }
    },
    {
      "cell_type": "code",
      "source": [
        "corrects = (preds>0.0).float() == train_y\n",
        "corrects"
      ],
      "metadata": {
        "colab": {
          "base_uri": "https://localhost:8080/"
        },
        "id": "qeQ0x4QcNPXQ",
        "outputId": "bbf007a4-b4fc-41ef-86a3-48cd8c8b896f"
      },
      "execution_count": 56,
      "outputs": [
        {
          "output_type": "execute_result",
          "data": {
            "text/plain": [
              "tensor([[ True],\n",
              "        [ True],\n",
              "        [ True],\n",
              "        ...,\n",
              "        [False],\n",
              "        [False],\n",
              "        [False]])"
            ]
          },
          "metadata": {},
          "execution_count": 56
        }
      ]
    },
    {
      "cell_type": "code",
      "source": [
        "corrects.float().mean().item()"
      ],
      "metadata": {
        "colab": {
          "base_uri": "https://localhost:8080/"
        },
        "id": "5O8k-zpVNVGh",
        "outputId": "e0a44a3b-57a6-419b-8cf3-2d54443f8974"
      },
      "execution_count": 57,
      "outputs": [
        {
          "output_type": "execute_result",
          "data": {
            "text/plain": [
              "0.5104323029518127"
            ]
          },
          "metadata": {},
          "execution_count": 57
        }
      ]
    },
    {
      "cell_type": "markdown",
      "source": [
        "Now let’s see what the change in accuracy is for a small change in one of the weights:\n",
        "\n"
      ],
      "metadata": {
        "id": "w1OlHDddNUt-"
      }
    },
    {
      "cell_type": "code",
      "source": [
        "weights.data[0] *=1.0001"
      ],
      "metadata": {
        "id": "Lv3E5ttVNcd8"
      },
      "execution_count": 62,
      "outputs": []
    },
    {
      "cell_type": "code",
      "source": [
        "preds = linear1(train_x)\n",
        "((preds>0.0).float() == train_y).float().mean().item()"
      ],
      "metadata": {
        "colab": {
          "base_uri": "https://localhost:8080/"
        },
        "id": "Rv2ItRdnONGh",
        "outputId": "8f5fd784-d5ea-4703-9db8-893416c486f0"
      },
      "execution_count": 63,
      "outputs": [
        {
          "output_type": "execute_result",
          "data": {
            "text/plain": [
              "0.5104323029518127"
            ]
          },
          "metadata": {},
          "execution_count": 63
        }
      ]
    },
    {
      "cell_type": "markdown",
      "source": [
        "As we’ve seen, we need gradients in order to improve our model using SGD, and in\n",
        "order to calculate gradients we need a loss function that represents how good our\n",
        "model is. That is because the gradients are a measure of how that loss function\n",
        "changes with small tweaks to the weights. Then, let's write a loss function that helps us."
      ],
      "metadata": {
        "id": "0RLtPTyTOV-t"
      }
    },
    {
      "cell_type": "code",
      "source": [
        "def mnist_loss(predictions, targets):\n",
        " predictions = predictions.sigmoid()\n",
        " return torch.where(targets==1, 1-predictions, predictions).mean()"
      ],
      "metadata": {
        "id": "zkmrRLnROWt2"
      },
      "execution_count": 64,
      "outputs": []
    },
    {
      "cell_type": "markdown",
      "source": [
        "Now that we have a loss function suitable for driving SGD, we can consider some of\n",
        "the details involved in the next phase of the learning process, which is to change or\n",
        "update the weights based on the gradients. \"This is called an optimization step.\n",
        "To take an optimization step, we need to calculate the loss over one or more data\n",
        "items. How many should we use?... Calculating it for the whole dataset would take a long time. Calculating it for a single\n",
        "item would not use much information, so it would result in an imprecise and unsta‐\n",
        "ble gradient. So instead we compromise: we calculate the average loss for a few data items at a\n",
        "time. This is called a mini-batch...One simple and effective thing we can\n",
        "vary is what data items we put in each mini-batch. Rather than simply enumerating\n",
        "our dataset in order for every epoch, instead what we normally do is randomly shuffle\n",
        "it on every epoch, before we create mini-batches. PyTorch and fastai provide a class\n",
        "that will do the shuffling and mini-batch collation for you, called DataLoader.\n",
        "A DataLoader can take any Python collection and turn it into an iterator over many\n",
        "batches, like so:\" (This part directly taken from fast.ai book page.170 highly recommended to read)"
      ],
      "metadata": {
        "id": "xFkdCXWFPsI3"
      }
    },
    {
      "cell_type": "code",
      "source": [
        "coll = range(15)\n",
        "dl = DataLoader(coll, batch_size=5, shuffle=True)\n",
        "list(dl)"
      ],
      "metadata": {
        "colab": {
          "base_uri": "https://localhost:8080/"
        },
        "id": "3DPrV5wiPtIw",
        "outputId": "739f3156-5e30-4359-da9a-46ae82c4d89d"
      },
      "execution_count": 65,
      "outputs": [
        {
          "output_type": "execute_result",
          "data": {
            "text/plain": [
              "[tensor([ 3, 12,  8, 10,  2]),\n",
              " tensor([ 9,  4,  7, 14,  5]),\n",
              " tensor([ 1, 13,  0,  6, 11])]"
            ]
          },
          "metadata": {},
          "execution_count": 65
        }
      ]
    },
    {
      "cell_type": "markdown",
      "source": [
        "We don't simply want any Python collection for training a model; we want a collection with independent and dependent variables (the inputs and targets of the model). A Dataset is a PyTorch collection that comprises tuples of independent and dependent variables. Here is an example of a very basic Dataset:"
      ],
      "metadata": {
        "id": "8TqAiNpcQ9Yg"
      }
    },
    {
      "cell_type": "code",
      "source": [
        "ds = L(enumerate(string.ascii_lowercase))\n",
        "ds"
      ],
      "metadata": {
        "colab": {
          "base_uri": "https://localhost:8080/"
        },
        "id": "qNWcd1vZRCys",
        "outputId": "481bd068-5aa6-4f95-d4b2-78101e5448b5"
      },
      "execution_count": 66,
      "outputs": [
        {
          "output_type": "execute_result",
          "data": {
            "text/plain": [
              "(#26) [(0, 'a'),(1, 'b'),(2, 'c'),(3, 'd'),(4, 'e'),(5, 'f'),(6, 'g'),(7, 'h'),(8, 'i'),(9, 'j')...]"
            ]
          },
          "metadata": {},
          "execution_count": 66
        }
      ]
    },
    {
      "cell_type": "markdown",
      "source": [
        "Then lets see what happen if we pass Dataset to a DataLoader:"
      ],
      "metadata": {
        "id": "dvk5GQDHRESL"
      }
    },
    {
      "cell_type": "code",
      "source": [
        "dl = DataLoader(ds, batch_size=6, shuffle=True)\n",
        "list(dl)"
      ],
      "metadata": {
        "colab": {
          "base_uri": "https://localhost:8080/"
        },
        "id": "IGiMXfRYRNzl",
        "outputId": "66230533-09aa-4217-bc52-7526725a1f55"
      },
      "execution_count": 67,
      "outputs": [
        {
          "output_type": "execute_result",
          "data": {
            "text/plain": [
              "[(tensor([17, 18, 10, 22,  8, 14]), ('r', 's', 'k', 'w', 'i', 'o')),\n",
              " (tensor([20, 15,  9, 13, 21, 12]), ('u', 'p', 'j', 'n', 'v', 'm')),\n",
              " (tensor([ 7, 25,  6,  5, 11, 23]), ('h', 'z', 'g', 'f', 'l', 'x')),\n",
              " (tensor([ 1,  3,  0, 24, 19, 16]), ('b', 'd', 'a', 'y', 't', 'q')),\n",
              " (tensor([2, 4]), ('c', 'e'))]"
            ]
          },
          "metadata": {},
          "execution_count": 67
        }
      ]
    },
    {
      "cell_type": "markdown",
      "source": [
        "We get back many batches that are\n",
        "themselves tuples of tensors representing batches of independent and dependent\n",
        "variables.\n",
        "\n",
        "We are now ready to write our first training loop for a model using SGD!"
      ],
      "metadata": {
        "id": "jEiGFoCXRSWe"
      }
    },
    {
      "cell_type": "code",
      "source": [
        "for x,y in dl:\n",
        " \n",
        " loss = loss_func(pred, y)\n",
        " loss.backward()\n",
        " parameters -= parameters.grad * lr"
      ],
      "metadata": {
        "colab": {
          "base_uri": "https://localhost:8080/",
          "height": 243
        },
        "id": "XTHggApcRWLh",
        "outputId": "eff530f9-f5e5-4fbf-c019-4f52be0d4057"
      },
      "execution_count": 69,
      "outputs": [
        {
          "output_type": "error",
          "ename": "NameError",
          "evalue": "ignored",
          "traceback": [
            "\u001b[0;31m---------------------------------------------------------------------------\u001b[0m",
            "\u001b[0;31mNameError\u001b[0m                                 Traceback (most recent call last)",
            "\u001b[0;32m<ipython-input-69-a5522c718cc3>\u001b[0m in \u001b[0;36m<module>\u001b[0;34m()\u001b[0m\n\u001b[1;32m      1\u001b[0m \u001b[0;32mfor\u001b[0m \u001b[0mx\u001b[0m\u001b[0;34m,\u001b[0m\u001b[0my\u001b[0m \u001b[0;32min\u001b[0m \u001b[0mdl\u001b[0m\u001b[0;34m:\u001b[0m\u001b[0;34m\u001b[0m\u001b[0;34m\u001b[0m\u001b[0m\n\u001b[1;32m      2\u001b[0m \u001b[0;34m\u001b[0m\u001b[0m\n\u001b[0;32m----> 3\u001b[0;31m  \u001b[0mloss\u001b[0m \u001b[0;34m=\u001b[0m \u001b[0mloss_func\u001b[0m\u001b[0;34m(\u001b[0m\u001b[0mpred\u001b[0m\u001b[0;34m,\u001b[0m \u001b[0my\u001b[0m\u001b[0;34m)\u001b[0m\u001b[0;34m\u001b[0m\u001b[0;34m\u001b[0m\u001b[0m\n\u001b[0m\u001b[1;32m      4\u001b[0m  \u001b[0mloss\u001b[0m\u001b[0;34m.\u001b[0m\u001b[0mbackward\u001b[0m\u001b[0;34m(\u001b[0m\u001b[0;34m)\u001b[0m\u001b[0;34m\u001b[0m\u001b[0;34m\u001b[0m\u001b[0m\n\u001b[1;32m      5\u001b[0m  \u001b[0mparameters\u001b[0m \u001b[0;34m-=\u001b[0m \u001b[0mparameters\u001b[0m\u001b[0;34m.\u001b[0m\u001b[0mgrad\u001b[0m \u001b[0;34m*\u001b[0m \u001b[0mlr\u001b[0m\u001b[0;34m\u001b[0m\u001b[0;34m\u001b[0m\u001b[0m\n",
            "\u001b[0;31mNameError\u001b[0m: name 'loss_func' is not defined"
          ]
        }
      ]
    }
  ]
}